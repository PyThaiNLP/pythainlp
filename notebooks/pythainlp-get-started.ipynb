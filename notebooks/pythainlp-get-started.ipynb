{
  "nbformat": 4,
  "nbformat_minor": 0,
  "metadata": {
    "kernelspec": {
      "display_name": "Python 3",
      "language": "python",
      "name": "python3"
    },
    "language_info": {
      "codemirror_mode": {
        "name": "ipython",
        "version": 3
      },
      "file_extension": ".py",
      "mimetype": "text/x-python",
      "name": "python",
      "nbconvert_exporter": "python",
      "pygments_lexer": "ipython3",
      "version": "3.7.3"
    },
    "colab": {
      "name": "pythainlp-get-started.ipynb",
      "version": "0.3.2",
      "provenance": []
    }
  },
  "cells": [
    {
      "cell_type": "markdown",
      "metadata": {
        "id": "Ri5cVDAWIgp7",
        "colab_type": "text"
      },
      "source": [
        "# PyThaiNLP Get Started\n",
        "\n",
        "Code examples for basic functions in PyThaiNLP https://github.com/PyThaiNLP/pythainlp"
      ]
    },
    {
      "cell_type": "code",
      "metadata": {
        "id": "3HsfhZlwInqs",
        "colab_type": "code",
        "colab": {
          "base_uri": "https://localhost:8080/",
          "height": 187
        },
        "outputId": "c4e91a7c-356c-4d07-802d-530cd62e4a6d"
      },
      "source": [
        "# #uncomment if running from colab\n",
        "# !pip install https://github.com/PyThaiNLP/pythainlp/archive/dev.zip\n",
        "# !pip install epitran\n",
        "# !pip install sklearn_crfsuite"
      ],
      "execution_count": 46,
      "outputs": [
        {
          "output_type": "stream",
          "text": [
            "Collecting sklearn_crfsuite\n",
            "  Downloading https://files.pythonhosted.org/packages/25/74/5b7befa513482e6dee1f3dd68171a6c9dfc14c0eaa00f885ffeba54fe9b0/sklearn_crfsuite-0.3.6-py2.py3-none-any.whl\n",
            "Requirement already satisfied: six in /usr/local/lib/python3.6/dist-packages (from sklearn_crfsuite) (1.12.0)\n",
            "Requirement already satisfied: tabulate in /usr/local/lib/python3.6/dist-packages (from sklearn_crfsuite) (0.8.3)\n",
            "Collecting python-crfsuite>=0.8.3 (from sklearn_crfsuite)\n",
            "\u001b[?25l  Downloading https://files.pythonhosted.org/packages/2f/86/cfcd71edca9d25d3d331209a20f6314b6f3f134c29478f90559cee9ce091/python_crfsuite-0.9.6-cp36-cp36m-manylinux1_x86_64.whl (754kB)\n",
            "\u001b[K     |████████████████████████████████| 757kB 4.2MB/s \n",
            "\u001b[?25hRequirement already satisfied: tqdm>=2.0 in /usr/local/lib/python3.6/dist-packages (from sklearn_crfsuite) (4.28.1)\n",
            "Installing collected packages: python-crfsuite, sklearn-crfsuite\n",
            "Successfully installed python-crfsuite-0.9.6 sklearn-crfsuite-0.3.6\n"
          ],
          "name": "stdout"
        }
      ]
    },
    {
      "cell_type": "markdown",
      "metadata": {
        "id": "A6gy4MLGIgp9",
        "colab_type": "text"
      },
      "source": [
        "## Thai Characters\n",
        "\n",
        "PyThaiNLP provides some ready-to-use Thai character set (e.g. Thai consonants, vowels, tonemarks, symbols) as a string for convenience. There are also few utility functions to test if a string is in Thai or not."
      ]
    },
    {
      "cell_type": "code",
      "metadata": {
        "id": "GAvoeZg3Igp-",
        "colab_type": "code",
        "colab": {
          "base_uri": "https://localhost:8080/",
          "height": 34
        },
        "outputId": "13509870-fe94-4957-ae37-b86a677d9234"
      },
      "source": [
        "import pythainlp\n",
        "\n",
        "pythainlp.thai_characters"
      ],
      "execution_count": 3,
      "outputs": [
        {
          "output_type": "execute_result",
          "data": {
            "text/plain": [
              "'กขฃคฅฆงจฉชซฌญฎฏฐฑฒณดตถทธนบปผฝพฟภมยรลวศษสหฬอฮฤฦะัาำิีึืุูเแโใไๅ็่้๊๋ฯๆฺ์ํ๎๏๚๛๐๑๒๓๔๕๖๗๘๙฿'"
            ]
          },
          "metadata": {
            "tags": []
          },
          "execution_count": 3
        }
      ]
    },
    {
      "cell_type": "code",
      "metadata": {
        "id": "uPwx53A6IgqF",
        "colab_type": "code",
        "colab": {
          "base_uri": "https://localhost:8080/",
          "height": 34
        },
        "outputId": "7693ee7c-f42f-4503-fc0a-fa2a47e5a374"
      },
      "source": [
        "pythainlp.thai_consonants"
      ],
      "execution_count": 5,
      "outputs": [
        {
          "output_type": "execute_result",
          "data": {
            "text/plain": [
              "'กขฃคฅฆงจฉชซฌญฎฏฐฑฒณดตถทธนบปผฝพฟภมยรลวศษสหฬอฮ'"
            ]
          },
          "metadata": {
            "tags": []
          },
          "execution_count": 5
        }
      ]
    },
    {
      "cell_type": "code",
      "metadata": {
        "id": "5UA7Hwy_IgqI",
        "colab_type": "code",
        "colab": {
          "base_uri": "https://localhost:8080/",
          "height": 34
        },
        "outputId": "9de7d50e-8499-48d9-bd2f-b025ddab9479"
      },
      "source": [
        "\"๔\" in pythainlp.thai_digits"
      ],
      "execution_count": 6,
      "outputs": [
        {
          "output_type": "execute_result",
          "data": {
            "text/plain": [
              "True"
            ]
          },
          "metadata": {
            "tags": []
          },
          "execution_count": 6
        }
      ]
    },
    {
      "cell_type": "code",
      "metadata": {
        "id": "t3NvXqYFIgqK",
        "colab_type": "code",
        "colab": {
          "base_uri": "https://localhost:8080/",
          "height": 34
        },
        "outputId": "52d91e75-cfd7-4176-ff3b-a725724a8871"
      },
      "source": [
        "import pythainlp.util\n",
        "\n",
        "pythainlp.util.isthai(\"ก\")"
      ],
      "execution_count": 7,
      "outputs": [
        {
          "output_type": "execute_result",
          "data": {
            "text/plain": [
              "True"
            ]
          },
          "metadata": {
            "tags": []
          },
          "execution_count": 7
        }
      ]
    },
    {
      "cell_type": "code",
      "metadata": {
        "id": "sRzSQjugIgqM",
        "colab_type": "code",
        "colab": {
          "base_uri": "https://localhost:8080/",
          "height": 34
        },
        "outputId": "212049ed-56d2-4b03-aef0-87d05b861ddb"
      },
      "source": [
        "pythainlp.util.isthai(\"(ก.พ.)\")"
      ],
      "execution_count": 8,
      "outputs": [
        {
          "output_type": "execute_result",
          "data": {
            "text/plain": [
              "False"
            ]
          },
          "metadata": {
            "tags": []
          },
          "execution_count": 8
        }
      ]
    },
    {
      "cell_type": "code",
      "metadata": {
        "id": "DP5yfJebIgqP",
        "colab_type": "code",
        "colab": {
          "base_uri": "https://localhost:8080/",
          "height": 34
        },
        "outputId": "0eca64e8-dbfc-479a-ec0c-c4da71ff3b1c"
      },
      "source": [
        "pythainlp.util.isthai(\"(ก.พ.)\", ignore_chars=\".()\")"
      ],
      "execution_count": 9,
      "outputs": [
        {
          "output_type": "execute_result",
          "data": {
            "text/plain": [
              "True"
            ]
          },
          "metadata": {
            "tags": []
          },
          "execution_count": 9
        }
      ]
    },
    {
      "cell_type": "code",
      "metadata": {
        "id": "87Z8P9WPIgqS",
        "colab_type": "code",
        "colab": {
          "base_uri": "https://localhost:8080/",
          "height": 34
        },
        "outputId": "0b92019f-9773-49db-e0b0-840ba9f7d8a0"
      },
      "source": [
        "pythainlp.util.countthai(\"วันอาทิตย์ที่ 24 มีนาคม 2562\")"
      ],
      "execution_count": 10,
      "outputs": [
        {
          "output_type": "execute_result",
          "data": {
            "text/plain": [
              "100.0"
            ]
          },
          "metadata": {
            "tags": []
          },
          "execution_count": 10
        }
      ]
    },
    {
      "cell_type": "code",
      "metadata": {
        "id": "ukSQP8ZTIgqV",
        "colab_type": "code",
        "colab": {
          "base_uri": "https://localhost:8080/",
          "height": 34
        },
        "outputId": "9f0bff09-0527-45ca-9f25-65c60f286930"
      },
      "source": [
        "pythainlp.util.countthai(\"วันอาทิตย์ที่ 24 มีนาคม 2562\", ignore_chars=\"\")"
      ],
      "execution_count": 11,
      "outputs": [
        {
          "output_type": "execute_result",
          "data": {
            "text/plain": [
              "67.85714285714286"
            ]
          },
          "metadata": {
            "tags": []
          },
          "execution_count": 11
        }
      ]
    },
    {
      "cell_type": "markdown",
      "metadata": {
        "id": "kW89ZW-IIgqX",
        "colab_type": "text"
      },
      "source": [
        "## Collation\n",
        "\n",
        "Sorting according to Thai dictionary."
      ]
    },
    {
      "cell_type": "code",
      "metadata": {
        "id": "hT1Pj52bIgqY",
        "colab_type": "code",
        "colab": {
          "base_uri": "https://localhost:8080/",
          "height": 34
        },
        "outputId": "b948f6ce-ee51-4f3e-cdad-43b3957155e0"
      },
      "source": [
        "from pythainlp.util import collate\n",
        "\n",
        "thai_words = [\"ค้อน\", \"กระดาษ\", \"กรรไกร\", \"ไข่\", \"ผ้าไหม\"]\n",
        "collate(thai_words)"
      ],
      "execution_count": 12,
      "outputs": [
        {
          "output_type": "execute_result",
          "data": {
            "text/plain": [
              "['กรรไกร', 'กระดาษ', 'ไข่', 'ค้อน', 'ผ้าไหม']"
            ]
          },
          "metadata": {
            "tags": []
          },
          "execution_count": 12
        }
      ]
    },
    {
      "cell_type": "code",
      "metadata": {
        "id": "XgWpZM8hIgqb",
        "colab_type": "code",
        "colab": {
          "base_uri": "https://localhost:8080/",
          "height": 34
        },
        "outputId": "d9003bd2-e0ee-47c7-aa67-f498e4f47578"
      },
      "source": [
        "collate(thai_words, reverse=True)"
      ],
      "execution_count": 13,
      "outputs": [
        {
          "output_type": "execute_result",
          "data": {
            "text/plain": [
              "['ผ้าไหม', 'ค้อน', 'ไข่', 'กระดาษ', 'กรรไกร']"
            ]
          },
          "metadata": {
            "tags": []
          },
          "execution_count": 13
        }
      ]
    },
    {
      "cell_type": "markdown",
      "metadata": {
        "id": "g-czYhLoIgqd",
        "colab_type": "text"
      },
      "source": [
        "## Date and Time Format\n",
        "\n",
        "Get Thai day and month names with Thai Buddhist Era (B.E.).\n",
        "Use formatting directives similar to datetime.strftime()."
      ]
    },
    {
      "cell_type": "code",
      "metadata": {
        "id": "F03_rMWzIgqe",
        "colab_type": "code",
        "colab": {
          "base_uri": "https://localhost:8080/",
          "height": 34
        },
        "outputId": "ffeda738-0926-4439-d3a0-14869d0d59db"
      },
      "source": [
        "import datetime\n",
        "from pythainlp.util import thai_strftime\n",
        "\n",
        "fmt = \"%Aที่ %-d %B พ.ศ. %Y เวลา %H:%M น. (%a %d-%b-%y)\"\n",
        "date = datetime.datetime(1976, 10, 6, 1, 40)\n",
        "\n",
        "thai_strftime(date, fmt)"
      ],
      "execution_count": 14,
      "outputs": [
        {
          "output_type": "execute_result",
          "data": {
            "text/plain": [
              "'วันพุธที่ 6 ตุลาคม พ.ศ. 2519 เวลา 01:40 น. (พ 06-ต.ค.-19)'"
            ]
          },
          "metadata": {
            "tags": []
          },
          "execution_count": 14
        }
      ]
    },
    {
      "cell_type": "markdown",
      "metadata": {
        "id": "8VFPOHyZIgqh",
        "colab_type": "text"
      },
      "source": [
        "## Tokenization"
      ]
    },
    {
      "cell_type": "markdown",
      "metadata": {
        "id": "SklPJ-DbIgqi",
        "colab_type": "text"
      },
      "source": [
        "### Sentence and Word\n",
        "\n",
        "Default word tokenizer (\"newmm\") use maximum matching algorithm."
      ]
    },
    {
      "cell_type": "code",
      "metadata": {
        "id": "JEbY-MGCIgqi",
        "colab_type": "code",
        "colab": {
          "base_uri": "https://localhost:8080/",
          "height": 68
        },
        "outputId": "ce82fcbe-117f-4e12-db86-f01b4ea988e4"
      },
      "source": [
        "from pythainlp import sent_tokenize, word_tokenize\n",
        "\n",
        "text = \"ฉันรักภาษาไทย เพราะฉันใช้ภาษาไทย \"\n",
        "\n",
        "print(\"sent_tokenize:\", sent_tokenize(text))\n",
        "print(\"word_tokenize:\", word_tokenize(text))\n",
        "print(\"word_tokenize, without whitespace:\", word_tokenize(text, keep_whitespace=False))"
      ],
      "execution_count": 15,
      "outputs": [
        {
          "output_type": "stream",
          "text": [
            "sent_tokenize: ['ฉันรักภาษาไทย', 'เพราะฉันใช้ภาษาไทย']\n",
            "word_tokenize: ['ฉัน', 'รัก', 'ภาษาไทย', ' ', 'เพราะ', 'ฉัน', 'ใช้', 'ภาษาไทย', ' ']\n",
            "word_tokenize, without whitespace: ['ฉัน', 'รัก', 'ภาษาไทย', 'เพราะ', 'ฉัน', 'ใช้', 'ภาษาไทย']\n"
          ],
          "name": "stdout"
        }
      ]
    },
    {
      "cell_type": "markdown",
      "metadata": {
        "id": "e5P_YygrIgqm",
        "colab_type": "text"
      },
      "source": [
        "Other algorithm can be chosen. We can also create a tokenizer with custom dictionary."
      ]
    },
    {
      "cell_type": "code",
      "metadata": {
        "id": "mI_Qz3k3Igqm",
        "colab_type": "code",
        "colab": {
          "base_uri": "https://localhost:8080/",
          "height": 68
        },
        "outputId": "2d10dc44-fc8d-4c4d-8526-3b5abe9494d5"
      },
      "source": [
        "from pythainlp import word_tokenize, Tokenizer\n",
        "\n",
        "text = \"กฎหมายแรงงานฉบับปรับปรุงใหม่ประกาศใช้แล้ว\"\n",
        "\n",
        "print(\"newmm:\", word_tokenize(text))  # default engine is \"newmm\"\n",
        "print(\"longest:\", word_tokenize(text, engine=\"longest\"))\n",
        "\n",
        "words = [\"กฎ\", \"งาน\"]\n",
        "custom_tokenizer = Tokenizer(words)\n",
        "print(\"custom:\", custom_tokenizer.word_tokenize(text))"
      ],
      "execution_count": 16,
      "outputs": [
        {
          "output_type": "stream",
          "text": [
            "newmm: ['กฎหมายแรงงาน', 'ฉบับ', 'ปรับปรุง', 'ใหม่', 'ประกาศ', 'ใช้แล้ว']\n",
            "longest: ['กฎหมายแรงงาน', 'ฉบับ', 'ปรับปรุง', 'ใหม่', 'ประกาศใช้', 'แล้ว']\n",
            "custom: ['กฎ', 'หมายแรง', 'งาน', 'ฉบับปรับปรุงใหม่ประกาศใช้แล้ว']\n"
          ],
          "name": "stdout"
        }
      ]
    },
    {
      "cell_type": "markdown",
      "metadata": {
        "id": "zIXUxXlTIgqo",
        "colab_type": "text"
      },
      "source": [
        "Default word tokenizer use a word list from pythainlp.corpus.common.thai_words().\n",
        "We can get that list, add/remove words, and create new tokenizer from the modified list."
      ]
    },
    {
      "cell_type": "code",
      "metadata": {
        "id": "RblqNckGIgqp",
        "colab_type": "code",
        "colab": {
          "base_uri": "https://localhost:8080/",
          "height": 51
        },
        "outputId": "b0c50208-55ce-4f63-8e99-8f98bbd31733"
      },
      "source": [
        "from pythainlp.corpus.common import thai_words\n",
        "from pythainlp import word_tokenize, Tokenizer\n",
        "\n",
        "text = \"ไอแซค อสิมอฟ\"\n",
        "\n",
        "print(\"newmm:\", word_tokenize(text))\n",
        "\n",
        "words = set(thai_words())  # thai_words() returns frozenset\n",
        "words.add(\"อสิมอฟ\")\n",
        "custom_tokenizer = Tokenizer(words)\n",
        "print(\"custom:\", custom_tokenizer.word_tokenize(text))"
      ],
      "execution_count": 17,
      "outputs": [
        {
          "output_type": "stream",
          "text": [
            "newmm: ['ไอแซค', ' ', 'อสิ', 'มอ', 'ฟ']\n",
            "custom: ['ไอแซค', ' ', 'อสิมอฟ']\n"
          ],
          "name": "stdout"
        }
      ]
    },
    {
      "cell_type": "code",
      "metadata": {
        "id": "4L2kRMY5Igqr",
        "colab_type": "code",
        "colab": {}
      },
      "source": [
        "speedtest_text = \"\"\"\n",
        "ครบรอบ 14 ปี ตากใบ เช้าวันนั้น 25 ต.ค. 2547 ผู้ชุมนุมชายกว่า 1,370 คน\n",
        "ถูกโยนขึ้นรถยีเอ็มซี 22 หรือ 24 คัน นอนซ้อนกันคันละ 4-5 ชั้น เดินทางจากสถานีตำรวจตากใบ ไปไกล 150 กิโลเมตร\n",
        "ไปถึงค่ายอิงคยุทธบริหาร ใช้เวลากว่า 6 ชั่วโมง / ในอีกคดีที่ญาติฟ้องร้องรัฐ คดีจบลงที่การประนีประนอมยอมความ\n",
        "กระทรวงกลาโหมจ่ายค่าสินไหมทดแทนรวม 42 ล้านบาทให้กับญาติผู้เสียหาย 79 ราย\n",
        "ปิดหีบและนับคะแนนเสร็จแล้ว ที่หน่วยเลือกตั้งที่ 32 เขต 13 แขวงหัวหมาก เขตบางกะปิ กรุงเทพมหานคร\n",
        "ผู้สมัคร ส.ส. และตัวแทนพรรคการเมืองจากหลายพรรคต่างมาเฝ้าสังเกตการนับคะแนนอย่างใกล้ชิด โดย\n",
        "ฐิติภัสร์ โชติเดชาชัยนันต์ จากพรรคพลังประชารัฐ และพริษฐ์ วัชรสินธุ จากพรรคประชาธิปัตย์ได้คะแนน\n",
        "96 คะแนนเท่ากัน\n",
        "เช้าวันอาทิตย์ที่ 21 เมษายน 2019 ซึ่งเป็นวันอีสเตอร์ วันสำคัญของชาวคริสต์\n",
        "เกิดเหตุระเบิดต่อเนื่องในโบสถ์คริสต์และโรงแรมอย่างน้อย 7 แห่งในประเทศศรีลังกา\n",
        "มีผู้เสียชีวิตแล้วอย่างน้อย 156 คน และบาดเจ็บหลายร้อยคน ยังไม่มีข้อมูลว่าผู้ก่อเหตุมาจากฝ่ายใด\n",
        "จีนกำหนดจัดการประชุมข้อริเริ่มสายแถบและเส้นทางในช่วงปลายสัปดาห์นี้ ปักกิ่งยืนยันว่า\n",
        "อภิมหาโครงการเชื่อมโลกของจีนไม่ใช่เครื่องมือแผ่อิทธิพล แต่ยินดีรับฟังข้อวิจารณ์ เช่น ประเด็นกับดักหนี้สิน\n",
        "และความไม่โปร่งใส รัฐบาลปักกิ่งบอกว่า เวทีประชุม Belt and Road Forum ในช่วงวันที่ 25-27 เมษายน\n",
        "ถือเป็นงานการทูตที่สำคัญที่สุดของจีนในปี 2019\n",
        "\"\"\""
      ],
      "execution_count": 0,
      "outputs": []
    },
    {
      "cell_type": "code",
      "metadata": {
        "id": "qMF_0xyOIgqs",
        "colab_type": "code",
        "colab": {
          "base_uri": "https://localhost:8080/",
          "height": 51
        },
        "outputId": "7b914ac8-456f-4af7-f62d-e4cdf61409aa"
      },
      "source": [
        "# Speed test: Calling \"longest\" engine through word_tokenize wrapper\n",
        "%time tokens = word_tokenize(speedtest_text, engine=\"longest\")"
      ],
      "execution_count": 19,
      "outputs": [
        {
          "output_type": "stream",
          "text": [
            "CPU times: user 842 ms, sys: 1.15 ms, total: 843 ms\n",
            "Wall time: 849 ms\n"
          ],
          "name": "stdout"
        }
      ]
    },
    {
      "cell_type": "code",
      "metadata": {
        "id": "NlCSHylIIgqv",
        "colab_type": "code",
        "colab": {
          "base_uri": "https://localhost:8080/",
          "height": 51
        },
        "outputId": "c270e307-6804-4dc6-93a4-5b64776d01e7"
      },
      "source": [
        "# Speed test: Calling \"newmm\" engine through word_tokenize wrapper\n",
        "%time tokens = word_tokenize(speedtest_text, engine=\"newmm\")"
      ],
      "execution_count": 20,
      "outputs": [
        {
          "output_type": "stream",
          "text": [
            "CPU times: user 10.5 ms, sys: 0 ns, total: 10.5 ms\n",
            "Wall time: 10.4 ms\n"
          ],
          "name": "stdout"
        }
      ]
    },
    {
      "cell_type": "code",
      "metadata": {
        "id": "SaSlNna8Igqx",
        "colab_type": "code",
        "colab": {
          "base_uri": "https://localhost:8080/",
          "height": 51
        },
        "outputId": "b87c8dd1-2e86-4b81-807b-4c75ee87217d"
      },
      "source": [
        "# Speed test: Directly call \"newmm\" engine from pythainlp.tokenize.newmm\n",
        "%time tokens = pythainlp.tokenize.newmm.segment(speedtest_text)"
      ],
      "execution_count": 21,
      "outputs": [
        {
          "output_type": "stream",
          "text": [
            "CPU times: user 6.36 ms, sys: 0 ns, total: 6.36 ms\n",
            "Wall time: 6.83 ms\n"
          ],
          "name": "stdout"
        }
      ]
    },
    {
      "cell_type": "code",
      "metadata": {
        "id": "qFTYqAB1Igq1",
        "colab_type": "code",
        "colab": {
          "base_uri": "https://localhost:8080/",
          "height": 272
        },
        "outputId": "607ea178-c070-48c6-c12e-1a62c09f8847"
      },
      "source": [
        "# Get all possible segmentations\n",
        "from pythainlp.tokenize.multi_cut import find_all_segment, mmcut, segment\n",
        "\n",
        "find_all_segment(\"มีความเป็นไปได้อย่างไรบ้าง\")"
      ],
      "execution_count": 22,
      "outputs": [
        {
          "output_type": "execute_result",
          "data": {
            "text/plain": [
              "['มี|ความ|เป็น|ไป|ได้|อย่าง|ไร|บ้าง|',\n",
              " 'มี|ความ|เป็นไป|ได้|อย่าง|ไร|บ้าง|',\n",
              " 'มี|ความ|เป็นไปได้|อย่าง|ไร|บ้าง|',\n",
              " 'มี|ความเป็นไป|ได้|อย่าง|ไร|บ้าง|',\n",
              " 'มี|ความเป็นไปได้|อย่าง|ไร|บ้าง|',\n",
              " 'มี|ความ|เป็น|ไป|ได้|อย่างไร|บ้าง|',\n",
              " 'มี|ความ|เป็นไป|ได้|อย่างไร|บ้าง|',\n",
              " 'มี|ความ|เป็นไปได้|อย่างไร|บ้าง|',\n",
              " 'มี|ความเป็นไป|ได้|อย่างไร|บ้าง|',\n",
              " 'มี|ความเป็นไปได้|อย่างไร|บ้าง|',\n",
              " 'มี|ความ|เป็น|ไป|ได้|อย่างไรบ้าง|',\n",
              " 'มี|ความ|เป็นไป|ได้|อย่างไรบ้าง|',\n",
              " 'มี|ความ|เป็นไปได้|อย่างไรบ้าง|',\n",
              " 'มี|ความเป็นไป|ได้|อย่างไรบ้าง|',\n",
              " 'มี|ความเป็นไปได้|อย่างไรบ้าง|']"
            ]
          },
          "metadata": {
            "tags": []
          },
          "execution_count": 22
        }
      ]
    },
    {
      "cell_type": "markdown",
      "metadata": {
        "id": "fWXiNUoBIgq4",
        "colab_type": "text"
      },
      "source": [
        "### Subword and Thai Character Cluster (TCC)\n",
        "\n",
        "According to [Character Cluster Based Thai Information Retrieval](https://www.researchgate.net/publication/2853284_Character_Cluster_Based_Thai_Information_Retrieval) (Theeramunkong et al. 2004)."
      ]
    },
    {
      "cell_type": "code",
      "metadata": {
        "id": "Z1wdMmdmIgq6",
        "colab_type": "code",
        "colab": {
          "base_uri": "https://localhost:8080/",
          "height": 34
        },
        "outputId": "c74fa03a-a288-47b8-9c49-7ed42c3545c9"
      },
      "source": [
        "from pythainlp import subword_tokenize\n",
        "\n",
        "subword_tokenize(\"ประเทศไทย\")"
      ],
      "execution_count": 23,
      "outputs": [
        {
          "output_type": "execute_result",
          "data": {
            "text/plain": [
              "['ป', 'ระ', 'เท', 'ศ', 'ไท', 'ย']"
            ]
          },
          "metadata": {
            "tags": []
          },
          "execution_count": 23
        }
      ]
    },
    {
      "cell_type": "markdown",
      "metadata": {
        "id": "RfO1WbneIgq9",
        "colab_type": "text"
      },
      "source": [
        "Low-level TCC operations"
      ]
    },
    {
      "cell_type": "code",
      "metadata": {
        "id": "3Gyig20XIgq-",
        "colab_type": "code",
        "colab": {
          "base_uri": "https://localhost:8080/",
          "height": 34
        },
        "outputId": "da9484b7-4dc4-4159-9b5f-df2771805ac9"
      },
      "source": [
        "from pythainlp.tokenize import tcc\n",
        "\n",
        "tcc.segment(\"ประเทศไทย\")"
      ],
      "execution_count": 24,
      "outputs": [
        {
          "output_type": "execute_result",
          "data": {
            "text/plain": [
              "['ป', 'ระ', 'เท', 'ศ', 'ไท', 'ย']"
            ]
          },
          "metadata": {
            "tags": []
          },
          "execution_count": 24
        }
      ]
    },
    {
      "cell_type": "code",
      "metadata": {
        "id": "cF-zQJU1IgrA",
        "colab_type": "code",
        "colab": {
          "base_uri": "https://localhost:8080/",
          "height": 34
        },
        "outputId": "fd966eb3-fd8b-46b6-ea61-93427431cdf9"
      },
      "source": [
        "tcc.tcc_pos(\"ประเทศไทย\")  # return positions"
      ],
      "execution_count": 25,
      "outputs": [
        {
          "output_type": "execute_result",
          "data": {
            "text/plain": [
              "{1, 3, 5, 6, 8, 9}"
            ]
          },
          "metadata": {
            "tags": []
          },
          "execution_count": 25
        }
      ]
    },
    {
      "cell_type": "code",
      "metadata": {
        "id": "aL2PiPUvIgrE",
        "colab_type": "code",
        "colab": {
          "base_uri": "https://localhost:8080/",
          "height": 34
        },
        "outputId": "a04d64f4-b174-4337-8859-ecac7e660f29"
      },
      "source": [
        "for ch in tcc.tcc(\"ประเทศไทย\"):  # generator\n",
        "    print(ch, end='-')"
      ],
      "execution_count": 26,
      "outputs": [
        {
          "output_type": "stream",
          "text": [
            "ป-ระ-เท-ศ-ไท-ย-"
          ],
          "name": "stdout"
        }
      ]
    },
    {
      "cell_type": "markdown",
      "metadata": {
        "id": "jxvgbdlhIgrG",
        "colab_type": "text"
      },
      "source": [
        "## Transliteration"
      ]
    },
    {
      "cell_type": "code",
      "metadata": {
        "id": "ujAsMHwyIgrH",
        "colab_type": "code",
        "colab": {
          "base_uri": "https://localhost:8080/",
          "height": 34
        },
        "outputId": "4a14e9df-9699-4ede-848b-a280ac0ba5d1"
      },
      "source": [
        "from pythainlp.transliterate import romanize\n",
        "\n",
        "romanize(\"แมว\")"
      ],
      "execution_count": 27,
      "outputs": [
        {
          "output_type": "execute_result",
          "data": {
            "text/plain": [
              "'maeo'"
            ]
          },
          "metadata": {
            "tags": []
          },
          "execution_count": 27
        }
      ]
    },
    {
      "cell_type": "code",
      "metadata": {
        "id": "LlDosHqXIgrJ",
        "colab_type": "code",
        "colab": {
          "base_uri": "https://localhost:8080/",
          "height": 34
        },
        "outputId": "a7a88a3a-a04e-4e90-aef4-c6b357ab04c7"
      },
      "source": [
        "from pythainlp.transliterate import transliterate\n",
        "\n",
        "transliterate(\"แมว\")"
      ],
      "execution_count": 31,
      "outputs": [
        {
          "output_type": "execute_result",
          "data": {
            "text/plain": [
              "'mɛːw'"
            ]
          },
          "metadata": {
            "tags": []
          },
          "execution_count": 31
        }
      ]
    },
    {
      "cell_type": "code",
      "metadata": {
        "id": "m5A6dPOWIgrL",
        "colab_type": "code",
        "colab": {}
      },
      "source": [
        "#!pip3 install pythainlp[icu]\n",
        "#transliterate(\"แมว\", engine=\"icu\")"
      ],
      "execution_count": 0,
      "outputs": []
    },
    {
      "cell_type": "markdown",
      "metadata": {
        "id": "4UwQtF3oIgrM",
        "colab_type": "text"
      },
      "source": [
        "## Normalization"
      ]
    },
    {
      "cell_type": "code",
      "metadata": {
        "id": "WXPq5bqfIgrN",
        "colab_type": "code",
        "colab": {
          "base_uri": "https://localhost:8080/",
          "height": 34
        },
        "outputId": "42a7a5be-7d7d-4997-811c-424c79ce3169"
      },
      "source": [
        "from pythainlp.util import normalize\n",
        "\n",
        "normalize(\"เเปลก\") == \"แปลก\"  # เ เ ป ล ก  vs แปลก"
      ],
      "execution_count": 32,
      "outputs": [
        {
          "output_type": "execute_result",
          "data": {
            "text/plain": [
              "True"
            ]
          },
          "metadata": {
            "tags": []
          },
          "execution_count": 32
        }
      ]
    },
    {
      "cell_type": "markdown",
      "metadata": {
        "id": "rlDji6ecIgrP",
        "colab_type": "text"
      },
      "source": [
        "## Soundex\n",
        "\n",
        "\"Soundex is a phonetic algorithm for indexing names by sound.\" ([Wikipedia](https://en.wikipedia.org/wiki/Soundex)). PyThaiNLP provides three kinds of Thai soundex."
      ]
    },
    {
      "cell_type": "code",
      "metadata": {
        "id": "I4JyUCRJIgrP",
        "colab_type": "code",
        "colab": {
          "base_uri": "https://localhost:8080/",
          "height": 68
        },
        "outputId": "6af3c11c-3f9a-4154-b7f2-c899312846dc"
      },
      "source": [
        "from pythainlp.soundex import lk82, metasound, udom83\n",
        "\n",
        "# check equivalence\n",
        "print(lk82(\"รถ\") == lk82(\"รด\"))\n",
        "print(udom83(\"วรร\") == udom83(\"วัน\"))\n",
        "print(metasound(\"นพ\") == metasound(\"นภ\"))"
      ],
      "execution_count": 33,
      "outputs": [
        {
          "output_type": "stream",
          "text": [
            "True\n",
            "True\n",
            "True\n"
          ],
          "name": "stdout"
        }
      ]
    },
    {
      "cell_type": "code",
      "metadata": {
        "id": "XTznoTg5IgrS",
        "colab_type": "code",
        "colab": {
          "base_uri": "https://localhost:8080/",
          "height": 170
        },
        "outputId": "8178cd7b-735d-4ccc-c36b-a8c67ea2ddb2"
      },
      "source": [
        "texts = [\"บูรณะ\", \"บูรณการ\", \"มัก\", \"มัค\", \"มรรค\", \"ลัก\", \"รัก\", \"รักษ์\", \"\"]\n",
        "for text in texts:\n",
        "    print(\n",
        "        \"{} - lk82: {} - udom83: {} - metasound: {}\".format(\n",
        "            text, lk82(text), udom83(text), metasound(text)\n",
        "        )\n",
        "    )"
      ],
      "execution_count": 34,
      "outputs": [
        {
          "output_type": "stream",
          "text": [
            "บูรณะ - lk82: บE400 - udom83: บ930000 - metasound: บ550\n",
            "บูรณการ - lk82: บE419 - udom83: บ931900 - metasound: บ551\n",
            "มัก - lk82: ม1000 - udom83: ม100000 - metasound: ม100\n",
            "มัค - lk82: ม1000 - udom83: ม100000 - metasound: ม100\n",
            "มรรค - lk82: ม1000 - udom83: ม310000 - metasound: ม551\n",
            "ลัก - lk82: ร1000 - udom83: ร100000 - metasound: ล100\n",
            "รัก - lk82: ร1000 - udom83: ร100000 - metasound: ร100\n",
            "รักษ์ - lk82: ร1000 - udom83: ร100000 - metasound: ร100\n",
            " - lk82:  - udom83:  - metasound: \n"
          ],
          "name": "stdout"
        }
      ]
    },
    {
      "cell_type": "markdown",
      "metadata": {
        "id": "spFQD8QsIgrT",
        "colab_type": "text"
      },
      "source": [
        "## Spellchecking\n",
        "\n",
        "Default spellchecker uses [Peter Norvig's algorithm](http://www.norvig.com/spell-correct.html) together with word frequency from Thai National Corpus (TNC)"
      ]
    },
    {
      "cell_type": "code",
      "metadata": {
        "id": "GAz0q6lWIgrU",
        "colab_type": "code",
        "colab": {
          "base_uri": "https://localhost:8080/",
          "height": 34
        },
        "outputId": "73427202-cdfe-47d9-8925-9596baafd9d3"
      },
      "source": [
        "from pythainlp import spell\n",
        "\n",
        "# list possible spellings\n",
        "spell(\"เหลืยม\")"
      ],
      "execution_count": 35,
      "outputs": [
        {
          "output_type": "execute_result",
          "data": {
            "text/plain": [
              "['เหลียม', 'เหลือม']"
            ]
          },
          "metadata": {
            "tags": []
          },
          "execution_count": 35
        }
      ]
    },
    {
      "cell_type": "code",
      "metadata": {
        "id": "I_fDSYEmIgrV",
        "colab_type": "code",
        "colab": {
          "base_uri": "https://localhost:8080/",
          "height": 34
        },
        "outputId": "e9b6f2eb-37b6-4189-8cfd-1273caf48f38"
      },
      "source": [
        "from pythainlp import correct\n",
        "\n",
        "# choose the most likely spelling\n",
        "correct(\"เหลืยม\")"
      ],
      "execution_count": 36,
      "outputs": [
        {
          "output_type": "execute_result",
          "data": {
            "text/plain": [
              "'เหลียม'"
            ]
          },
          "metadata": {
            "tags": []
          },
          "execution_count": 36
        }
      ]
    },
    {
      "cell_type": "markdown",
      "metadata": {
        "id": "N-dOvexUIgrX",
        "colab_type": "text"
      },
      "source": [
        "## Spellchecking - Custom dictionary and word frequency\n",
        "\n",
        "Custom dictionary can be provided when creating spellchecker."
      ]
    },
    {
      "cell_type": "code",
      "metadata": {
        "id": "ixx-8YtfIgrY",
        "colab_type": "code",
        "colab": {
          "base_uri": "https://localhost:8080/",
          "height": 51
        },
        "outputId": "0dbcf0dc-287e-4c00-f005-c371c81211cd"
      },
      "source": [
        "from pythainlp.corpus import ttc  # Thai Textbook Corpus\n",
        "from pythainlp.spell import NorvigSpellChecker\n",
        "\n",
        "checker = NorvigSpellChecker(custom_dict=ttc.word_freqs())\n",
        "print(checker.spell(\"เหลืยม\"))\n",
        "print(checker.correct(\"เหลืยม\"))"
      ],
      "execution_count": 37,
      "outputs": [
        {
          "output_type": "stream",
          "text": [
            "['เหลือม']\n",
            "เหลือม\n"
          ],
          "name": "stdout"
        }
      ]
    },
    {
      "cell_type": "code",
      "metadata": {
        "id": "H7TxgdwbIgra",
        "colab_type": "code",
        "colab": {
          "base_uri": "https://localhost:8080/",
          "height": 170
        },
        "outputId": "3709f50f-3541-41d1-d8c6-7dfd090f3c1f"
      },
      "source": [
        "list(checker.dictionary())[1:10]"
      ],
      "execution_count": 38,
      "outputs": [
        {
          "output_type": "execute_result",
          "data": {
            "text/plain": [
              "[('ข้ออ้าง', 2),\n",
              " ('ชนิด', 1744),\n",
              " ('ด้นดั้น', 2),\n",
              " ('ตบ', 112),\n",
              " ('ล้วนๆ', 15),\n",
              " ('ลำธาร', 281),\n",
              " ('เชือด', 36),\n",
              " ('กระดุม', 13),\n",
              " ('โกสุม', 2)]"
            ]
          },
          "metadata": {
            "tags": []
          },
          "execution_count": 38
        }
      ]
    },
    {
      "cell_type": "markdown",
      "metadata": {
        "id": "70sKEAlGIgrc",
        "colab_type": "text"
      },
      "source": [
        "We can also apply conditions and filter function to dictionary when creating spellchecker."
      ]
    },
    {
      "cell_type": "code",
      "metadata": {
        "id": "gT8G4cFzIgrc",
        "colab_type": "code",
        "colab": {
          "base_uri": "https://localhost:8080/",
          "height": 34
        },
        "outputId": "ad4dd927-4c65-4164-a6cb-d123a08c9ee2"
      },
      "source": [
        "checker = NorvigSpellChecker()  # use default filter (remove any word with number or non-Thai character)\n",
        "len(checker.dictionary())"
      ],
      "execution_count": 39,
      "outputs": [
        {
          "output_type": "execute_result",
          "data": {
            "text/plain": [
              "39963"
            ]
          },
          "metadata": {
            "tags": []
          },
          "execution_count": 39
        }
      ]
    },
    {
      "cell_type": "code",
      "metadata": {
        "id": "w6qI7M92Igre",
        "colab_type": "code",
        "colab": {
          "base_uri": "https://localhost:8080/",
          "height": 34
        },
        "outputId": "862b3111-e83d-4662-f643-e013e2fc8cd5"
      },
      "source": [
        "checker = NorvigSpellChecker(min_freq=5, min_len=2, max_len=15)\n",
        "len(checker.dictionary())"
      ],
      "execution_count": 40,
      "outputs": [
        {
          "output_type": "execute_result",
          "data": {
            "text/plain": [
              "30376"
            ]
          },
          "metadata": {
            "tags": []
          },
          "execution_count": 40
        }
      ]
    },
    {
      "cell_type": "code",
      "metadata": {
        "id": "cTkFjK8IIgrh",
        "colab_type": "code",
        "colab": {
          "base_uri": "https://localhost:8080/",
          "height": 34
        },
        "outputId": "7c2e3d09-aa49-4ee0-edfa-49fd4876a968"
      },
      "source": [
        "checker_no_filter = NorvigSpellChecker(dict_filter=None)  # use no filter\n",
        "len(checker_no_filter.dictionary())"
      ],
      "execution_count": 41,
      "outputs": [
        {
          "output_type": "execute_result",
          "data": {
            "text/plain": [
              "66209"
            ]
          },
          "metadata": {
            "tags": []
          },
          "execution_count": 41
        }
      ]
    },
    {
      "cell_type": "code",
      "metadata": {
        "id": "70ZHCbBQIgrm",
        "colab_type": "code",
        "colab": {
          "base_uri": "https://localhost:8080/",
          "height": 34
        },
        "outputId": "0dc68873-9e46-4578-bd22-aa3fc1cfb198"
      },
      "source": [
        "def remove_yamok(word):\n",
        "    return False if \"ๆ\" in word else True\n",
        "\n",
        "checker_custom_filter = NorvigSpellChecker(dict_filter=remove_yamok)  # use custom filter\n",
        "len(checker_custom_filter.dictionary())"
      ],
      "execution_count": 42,
      "outputs": [
        {
          "output_type": "execute_result",
          "data": {
            "text/plain": [
              "66204"
            ]
          },
          "metadata": {
            "tags": []
          },
          "execution_count": 42
        }
      ]
    },
    {
      "cell_type": "markdown",
      "metadata": {
        "id": "1hoODyDrIgro",
        "colab_type": "text"
      },
      "source": [
        "## Part-of-Speech Tagging"
      ]
    },
    {
      "cell_type": "code",
      "metadata": {
        "id": "39JixRHsIgro",
        "colab_type": "code",
        "colab": {
          "base_uri": "https://localhost:8080/",
          "height": 34
        },
        "outputId": "cff28d16-3fa7-4b66-df2e-beef601ec41d"
      },
      "source": [
        "from pythainlp.tag import pos_tag, pos_tag_sents\n",
        "\n",
        "pos_tag([\"การ\",\"เดินทาง\"])"
      ],
      "execution_count": 43,
      "outputs": [
        {
          "output_type": "execute_result",
          "data": {
            "text/plain": [
              "[('การ', 'FIXN'), ('เดินทาง', 'VACT')]"
            ]
          },
          "metadata": {
            "tags": []
          },
          "execution_count": 43
        }
      ]
    },
    {
      "cell_type": "code",
      "metadata": {
        "id": "qrSDelkrIgrq",
        "colab_type": "code",
        "colab": {
          "base_uri": "https://localhost:8080/",
          "height": 306
        },
        "outputId": "8cce2c89-7599-4020-b5a6-771c0fa0c005"
      },
      "source": [
        "sents = [[\"ประกาศสำนักนายกฯ\", \" \", \"ให้\",\n",
        "    \" \", \"'พล.ท.สรรเสริญ แก้วกำเนิด'\", \" \", \"พ้นจากตำแหน่ง\",\n",
        "    \" \", \"ผู้ทรงคุณวุฒิพิเศษ\", \"กองทัพบก\", \" \", \"กระทรวงกลาโหม\"],\n",
        "    [\"และ\", \"แต่งตั้ง\", \"ให้\", \"เป็น\", \"'อธิบดีกรมประชาสัมพันธ์'\"]]\n",
        "\n",
        "pos_tag_sents(sents)"
      ],
      "execution_count": 44,
      "outputs": [
        {
          "output_type": "execute_result",
          "data": {
            "text/plain": [
              "[[('ประกาศสำนักนายกฯ', 'NCMN'),\n",
              "  (' ', 'PUNC'),\n",
              "  ('ให้', 'JSBR'),\n",
              "  (' ', 'PUNC'),\n",
              "  (\"'พล.ท.สรรเสริญ แก้วกำเนิด'\", 'NCMN'),\n",
              "  (' ', 'PUNC'),\n",
              "  ('พ้นจากตำแหน่ง', 'NCMN'),\n",
              "  (' ', 'PUNC'),\n",
              "  ('ผู้ทรงคุณวุฒิพิเศษ', 'NCMN'),\n",
              "  ('กองทัพบก', 'NCMN'),\n",
              "  (' ', 'PUNC'),\n",
              "  ('กระทรวงกลาโหม', 'NCMN')],\n",
              " [('และ', 'JCRG'),\n",
              "  ('แต่งตั้ง', 'VACT'),\n",
              "  ('ให้', 'JSBR'),\n",
              "  ('เป็น', 'VSTA'),\n",
              "  (\"'อธิบดีกรมประชาสัมพันธ์'\", 'NCMN')]]"
            ]
          },
          "metadata": {
            "tags": []
          },
          "execution_count": 44
        }
      ]
    },
    {
      "cell_type": "markdown",
      "metadata": {
        "id": "f6ShDKpHIgrs",
        "colab_type": "text"
      },
      "source": [
        "## Named-Entity Tagging\n",
        "\n",
        "The tagger use BIO scheme:\n",
        "- B - beginning of entity\n",
        "- I - inside entity\n",
        "- O - outside entity"
      ]
    },
    {
      "cell_type": "code",
      "metadata": {
        "id": "TVso09S7Igrv",
        "colab_type": "code",
        "colab": {
          "base_uri": "https://localhost:8080/",
          "height": 561
        },
        "outputId": "f801ac2c-d013-4243-ba0e-b8f88bc69efd"
      },
      "source": [
        "from pythainlp.tag.named_entity import ThaiNameTagger\n",
        "\n",
        "ner = ThaiNameTagger()\n",
        "ner.get_ner(\"15 ก.ย. 61 ทดสอบระบบเวลา 14:49 น. เดินทางจากกทม.ไปจังหวัดกำแพงเพชร ตั๋วราคา 297 บาท\")"
      ],
      "execution_count": 47,
      "outputs": [
        {
          "output_type": "stream",
          "text": [
            "Download: thainer-1-2\n",
            "thainer-1-2 1.2\n"
          ],
          "name": "stdout"
        },
        {
          "output_type": "stream",
          "text": [
            "100%|██████████| 1886304/1886304 [00:00<00:00, 20387384.78it/s]\n"
          ],
          "name": "stderr"
        },
        {
          "output_type": "execute_result",
          "data": {
            "text/plain": [
              "[('15', 'NUM', 'O'),\n",
              " (' ', 'PUNCT', 'O'),\n",
              " ('ก.ย.', 'NOUN', 'B-DATE'),\n",
              " (' ', 'PUNCT', 'I-DATE'),\n",
              " ('61', 'NUM', 'I-DATE'),\n",
              " (' ', 'PUNCT', 'O'),\n",
              " ('ทดสอบ', 'VERB', 'O'),\n",
              " ('ระบบ', 'NOUN', 'O'),\n",
              " ('เวลา', 'NOUN', 'O'),\n",
              " (' ', 'PUNCT', 'O'),\n",
              " ('14', 'NOUN', 'B-TIME'),\n",
              " (':', 'PUNCT', 'I-TIME'),\n",
              " ('49', 'NUM', 'I-TIME'),\n",
              " (' ', 'PUNCT', 'I-TIME'),\n",
              " ('น.', 'NOUN', 'I-TIME'),\n",
              " (' ', 'PUNCT', 'O'),\n",
              " ('เดินทาง', 'VERB', 'O'),\n",
              " ('จาก', 'ADP', 'O'),\n",
              " ('กทม.', 'NOUN', 'B-LOCATION'),\n",
              " ('ไป', 'AUX', 'O'),\n",
              " ('จังหวัด', 'NOUN', 'B-LOCATION'),\n",
              " ('กำแพงเพชร', 'NOUN', 'I-LOCATION'),\n",
              " (' ', 'PUNCT', 'O'),\n",
              " ('ตั๋ว', 'NOUN', 'O'),\n",
              " ('ราคา', 'NOUN', 'O'),\n",
              " (' ', 'PUNCT', 'O'),\n",
              " ('297', 'NUM', 'B-MONEY'),\n",
              " (' ', 'PUNCT', 'I-MONEY'),\n",
              " ('บาท', 'NOUN', 'I-MONEY')]"
            ]
          },
          "metadata": {
            "tags": []
          },
          "execution_count": 47
        }
      ]
    },
    {
      "cell_type": "markdown",
      "metadata": {
        "id": "6cF88wN2Igry",
        "colab_type": "text"
      },
      "source": [
        "## Word Vector"
      ]
    },
    {
      "cell_type": "code",
      "metadata": {
        "id": "GshCfJiBIgrz",
        "colab_type": "code",
        "colab": {
          "base_uri": "https://localhost:8080/",
          "height": 224
        },
        "outputId": "921340b3-4962-41a5-f550-f463360fb3b8"
      },
      "source": [
        "import pythainlp.word_vector\n",
        "\n",
        "pythainlp.word_vector.similarity(\"คน\", \"มนุษย์\")"
      ],
      "execution_count": 48,
      "outputs": [
        {
          "output_type": "stream",
          "text": [
            "INFO:summarizer.preprocessing.cleaner:'pattern' package not found; tag filters are not available for English\n"
          ],
          "name": "stderr"
        },
        {
          "output_type": "stream",
          "text": [
            "Download: thai2fit_wv\n",
            "thai2fit_wv 0.1\n"
          ],
          "name": "stdout"
        },
        {
          "output_type": "stream",
          "text": [
            "100%|██████████| 62452646/62452646 [00:01<00:00, 45562176.71it/s]\n",
            "INFO:gensim.models.utils_any2vec:loading projection weights from /root/pythainlp-data/thai2vec.bin\n",
            "/usr/local/lib/python3.6/dist-packages/smart_open/smart_open_lib.py:398: UserWarning: This function is deprecated, use smart_open.open instead. See the migration notes for details: https://github.com/RaRe-Technologies/smart_open/blob/master/README.rst#migrating-to-the-new-open-function\n",
            "  'See the migration notes for details: %s' % _MIGRATION_NOTES_URL\n",
            "INFO:gensim.models.utils_any2vec:loaded (51358, 300) matrix from /root/pythainlp-data/thai2vec.bin\n",
            "/usr/local/lib/python3.6/dist-packages/gensim/matutils.py:737: FutureWarning: Conversion of the second argument of issubdtype from `int` to `np.signedinteger` is deprecated. In future, it will be treated as `np.int64 == np.dtype(int).type`.\n",
            "  if np.issubdtype(vec.dtype, np.int):\n"
          ],
          "name": "stderr"
        },
        {
          "output_type": "execute_result",
          "data": {
            "text/plain": [
              "0.2504981"
            ]
          },
          "metadata": {
            "tags": []
          },
          "execution_count": 48
        }
      ]
    },
    {
      "cell_type": "code",
      "metadata": {
        "id": "qJP9As-_Igr0",
        "colab_type": "code",
        "colab": {
          "base_uri": "https://localhost:8080/",
          "height": 122
        },
        "outputId": "7f528d29-0edf-4b3c-9c31-138d7b85e83a"
      },
      "source": [
        "pythainlp.word_vector.doesnt_match([\"คน\", \"มนุษย์\", \"บุคคล\", \"เจ้าหน้าที่\", \"ไก่\"])"
      ],
      "execution_count": 50,
      "outputs": [
        {
          "output_type": "stream",
          "text": [
            "/usr/local/lib/python3.6/dist-packages/gensim/models/keyedvectors.py:895: FutureWarning: arrays to stack must be passed as a \"sequence\" type such as list or tuple. Support for non-sequence iterables such as generators is deprecated as of NumPy 1.16 and will raise an error in the future.\n",
            "  vectors = vstack(self.word_vec(word, use_norm=True) for word in used_words).astype(REAL)\n",
            "/usr/local/lib/python3.6/dist-packages/gensim/matutils.py:737: FutureWarning: Conversion of the second argument of issubdtype from `int` to `np.signedinteger` is deprecated. In future, it will be treated as `np.int64 == np.dtype(int).type`.\n",
            "  if np.issubdtype(vec.dtype, np.int):\n"
          ],
          "name": "stderr"
        },
        {
          "output_type": "execute_result",
          "data": {
            "text/plain": [
              "'ไก่'"
            ]
          },
          "metadata": {
            "tags": []
          },
          "execution_count": 50
        }
      ]
    },
    {
      "cell_type": "markdown",
      "metadata": {
        "id": "iS7iwPoiIgr3",
        "colab_type": "text"
      },
      "source": [
        "## Number Spell Out"
      ]
    },
    {
      "cell_type": "code",
      "metadata": {
        "id": "F9PEEvWLIgr4",
        "colab_type": "code",
        "colab": {
          "base_uri": "https://localhost:8080/",
          "height": 34
        },
        "outputId": "a5782efd-aceb-4c5e-d746-df69ba9cad8d"
      },
      "source": [
        "from pythainlp.util import bahttext\n",
        "\n",
        "bahttext(1234567890123.45)"
      ],
      "execution_count": 52,
      "outputs": [
        {
          "output_type": "execute_result",
          "data": {
            "text/plain": [
              "'หนึ่งล้านสองแสนสามหมื่นสี่พันห้าร้อยหกสิบเจ็ดล้านแปดแสนเก้าหมื่นหนึ่งร้อยยี่สิบสามบาทสี่สิบห้าสตางค์'"
            ]
          },
          "metadata": {
            "tags": []
          },
          "execution_count": 52
        }
      ]
    },
    {
      "cell_type": "code",
      "metadata": {
        "id": "Y6DLJYOEIgr7",
        "colab_type": "code",
        "colab": {
          "base_uri": "https://localhost:8080/",
          "height": 34
        },
        "outputId": "eac48468-ab8b-4e67-acad-5d6560a18979"
      },
      "source": [
        "# bahttext() will round the satang part\n",
        "bahttext(1.909)"
      ],
      "execution_count": 53,
      "outputs": [
        {
          "output_type": "execute_result",
          "data": {
            "text/plain": [
              "'หนึ่งบาทเก้าสิบเอ็ดสตางค์'"
            ]
          },
          "metadata": {
            "tags": []
          },
          "execution_count": 53
        }
      ]
    },
    {
      "cell_type": "code",
      "metadata": {
        "id": "dPnFMQ2QIgr8",
        "colab_type": "code",
        "colab": {}
      },
      "source": [
        ""
      ],
      "execution_count": 0,
      "outputs": []
    }
  ]
}