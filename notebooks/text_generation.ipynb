{
  "nbformat": 4,
  "nbformat_minor": 0,
  "metadata": {
    "kernelspec": {
      "name": "python3",
      "display_name": "Python 3"
    },
    "language_info": {
      "codemirror_mode": {
        "name": "ipython",
        "version": 3
      },
      "file_extension": ".py",
      "mimetype": "text/x-python",
      "name": "python",
      "nbconvert_exporter": "python",
      "pygments_lexer": "ipython3",
      "version": "3.6.8"
    },
    "colab": {
      "name": "text_generation.ipynb",
      "version": "0.3.2",
      "provenance": []
    },
    "accelerator": "GPU"
  },
  "cells": [
    {
      "cell_type": "markdown",
      "metadata": {
        "id": "vfD07MBXKROC",
        "colab_type": "text"
      },
      "source": [
        "# Thai Wiki Language Model for Text Generation"
      ]
    },
    {
      "cell_type": "markdown",
      "metadata": {
        "id": "BunBriX0KROF",
        "colab_type": "text"
      },
      "source": [
        "This notebook details how you can use pretrained language model on [Thai Wikipedia Dump](https://dumps.wikimedia.org/thwiki/latest/thwiki-latest-pages-articles.xml.bz2) to generate texts."
      ]
    },
    {
      "cell_type": "code",
      "metadata": {
        "id": "O8IVDoE9KROG",
        "colab_type": "code",
        "colab": {
          "base_uri": "https://localhost:8080/",
          "height": 1000
        },
        "outputId": "935e7e3e-6f0d-4880-86b8-30df8e2eb853"
      },
      "source": [
        "#uncomment if you are running from google colab\n",
        "!pip install sklearn_crfsuite\n",
        "!pip install https://github.com/PyThaiNLP/pythainlp/archive/dev.zip\n",
        "!pip install fastai\n",
        "!pip install emoji"
      ],
      "execution_count": 3,
      "outputs": [
        {
          "output_type": "stream",
          "text": [
            "Requirement already satisfied: sklearn_crfsuite in /usr/local/lib/python3.6/dist-packages (0.3.6)\n",
            "Requirement already satisfied: python-crfsuite>=0.8.3 in /usr/local/lib/python3.6/dist-packages (from sklearn_crfsuite) (0.9.6)\n",
            "Requirement already satisfied: six in /usr/local/lib/python3.6/dist-packages (from sklearn_crfsuite) (1.12.0)\n",
            "Requirement already satisfied: tqdm>=2.0 in /usr/local/lib/python3.6/dist-packages (from sklearn_crfsuite) (4.28.1)\n",
            "Requirement already satisfied: tabulate in /usr/local/lib/python3.6/dist-packages (from sklearn_crfsuite) (0.8.3)\n",
            "Collecting https://github.com/PyThaiNLP/pythainlp/archive/dev.zip\n",
            "\u001b[?25l  Downloading https://github.com/PyThaiNLP/pythainlp/archive/dev.zip\n",
            "\u001b[K     - 11.2MB 218kB/s\n",
            "\u001b[?25hRequirement already satisfied (use --upgrade to upgrade): pythainlp==2.1.dev2 from https://github.com/PyThaiNLP/pythainlp/archive/dev.zip in /usr/local/lib/python3.6/dist-packages\n",
            "Requirement already satisfied: dill in /usr/local/lib/python3.6/dist-packages (from pythainlp==2.1.dev2) (0.3.0)\n",
            "Requirement already satisfied: marisa-trie==0.7.4 in /usr/local/lib/python3.6/dist-packages (from pythainlp==2.1.dev2) (0.7.4)\n",
            "Requirement already satisfied: nltk>=3.2.2 in /usr/local/lib/python3.6/dist-packages (from pythainlp==2.1.dev2) (3.2.5)\n",
            "Requirement already satisfied: pytz in /usr/local/lib/python3.6/dist-packages (from pythainlp==2.1.dev2) (2018.9)\n",
            "Requirement already satisfied: requests in /usr/local/lib/python3.6/dist-packages (from pythainlp==2.1.dev2) (2.21.0)\n",
            "Requirement already satisfied: tinydb in /usr/local/lib/python3.6/dist-packages (from pythainlp==2.1.dev2) (3.13.0)\n",
            "Requirement already satisfied: tqdm in /usr/local/lib/python3.6/dist-packages (from pythainlp==2.1.dev2) (4.28.1)\n",
            "Requirement already satisfied: six in /usr/local/lib/python3.6/dist-packages (from nltk>=3.2.2->pythainlp==2.1.dev2) (1.12.0)\n",
            "Requirement already satisfied: idna<2.9,>=2.5 in /usr/local/lib/python3.6/dist-packages (from requests->pythainlp==2.1.dev2) (2.8)\n",
            "Requirement already satisfied: certifi>=2017.4.17 in /usr/local/lib/python3.6/dist-packages (from requests->pythainlp==2.1.dev2) (2019.6.16)\n",
            "Requirement already satisfied: urllib3<1.25,>=1.21.1 in /usr/local/lib/python3.6/dist-packages (from requests->pythainlp==2.1.dev2) (1.24.3)\n",
            "Requirement already satisfied: chardet<3.1.0,>=3.0.2 in /usr/local/lib/python3.6/dist-packages (from requests->pythainlp==2.1.dev2) (3.0.4)\n",
            "Building wheels for collected packages: pythainlp\n",
            "  Building wheel for pythainlp (setup.py) ... \u001b[?25l\u001b[?25hdone\n",
            "  Created wheel for pythainlp: filename=pythainlp-2.1.dev2-cp36-none-any.whl size=11014043 sha256=3dfa6501ae5079e51204d5ab850ab32965c85f27bb642a67712b39b106feb3fc\n",
            "  Stored in directory: /tmp/pip-ephem-wheel-cache-5gfc5rda/wheels/79/4e/1e/26f3198c6712ecfbee92928ed1dde923a078da3d222401cc78\n",
            "Successfully built pythainlp\n",
            "Requirement already satisfied: fastai in /usr/local/lib/python3.6/dist-packages (1.0.57)\n",
            "Requirement already satisfied: pyyaml in /usr/local/lib/python3.6/dist-packages (from fastai) (3.13)\n",
            "Requirement already satisfied: spacy>=2.0.18 in /usr/local/lib/python3.6/dist-packages (from fastai) (2.1.8)\n",
            "Requirement already satisfied: typing; python_version < \"3.7\" in /usr/local/lib/python3.6/dist-packages (from fastai) (3.7.4)\n",
            "Requirement already satisfied: scipy in /usr/local/lib/python3.6/dist-packages (from fastai) (1.3.1)\n",
            "Requirement already satisfied: beautifulsoup4 in /usr/local/lib/python3.6/dist-packages (from fastai) (4.6.3)\n",
            "Requirement already satisfied: packaging in /usr/local/lib/python3.6/dist-packages (from fastai) (19.1)\n",
            "Requirement already satisfied: matplotlib in /usr/local/lib/python3.6/dist-packages (from fastai) (3.0.3)\n",
            "Requirement already satisfied: Pillow in /usr/local/lib/python3.6/dist-packages (from fastai) (4.3.0)\n",
            "Requirement already satisfied: torch>=1.0.0 in /usr/local/lib/python3.6/dist-packages (from fastai) (1.1.0)\n",
            "Requirement already satisfied: fastprogress>=0.1.19 in /usr/local/lib/python3.6/dist-packages (from fastai) (0.1.21)\n",
            "Requirement already satisfied: torchvision in /usr/local/lib/python3.6/dist-packages (from fastai) (0.3.0)\n",
            "Requirement already satisfied: nvidia-ml-py3 in /usr/local/lib/python3.6/dist-packages (from fastai) (7.352.0)\n",
            "Requirement already satisfied: bottleneck in /usr/local/lib/python3.6/dist-packages (from fastai) (1.2.1)\n",
            "Requirement already satisfied: requests in /usr/local/lib/python3.6/dist-packages (from fastai) (2.21.0)\n",
            "Requirement already satisfied: numexpr in /usr/local/lib/python3.6/dist-packages (from fastai) (2.6.9)\n",
            "Requirement already satisfied: numpy>=1.15 in /usr/local/lib/python3.6/dist-packages (from fastai) (1.16.4)\n",
            "Requirement already satisfied: pandas in /usr/local/lib/python3.6/dist-packages (from fastai) (0.24.2)\n",
            "Requirement already satisfied: dataclasses; python_version < \"3.7\" in /usr/local/lib/python3.6/dist-packages (from fastai) (0.6)\n",
            "Requirement already satisfied: wasabi<1.1.0,>=0.2.0 in /usr/local/lib/python3.6/dist-packages (from spacy>=2.0.18->fastai) (0.2.2)\n",
            "Requirement already satisfied: plac<1.0.0,>=0.9.6 in /usr/local/lib/python3.6/dist-packages (from spacy>=2.0.18->fastai) (0.9.6)\n",
            "Requirement already satisfied: blis<0.3.0,>=0.2.2 in /usr/local/lib/python3.6/dist-packages (from spacy>=2.0.18->fastai) (0.2.4)\n",
            "Requirement already satisfied: srsly<1.1.0,>=0.0.6 in /usr/local/lib/python3.6/dist-packages (from spacy>=2.0.18->fastai) (0.0.7)\n",
            "Requirement already satisfied: murmurhash<1.1.0,>=0.28.0 in /usr/local/lib/python3.6/dist-packages (from spacy>=2.0.18->fastai) (1.0.2)\n",
            "Requirement already satisfied: cymem<2.1.0,>=2.0.2 in /usr/local/lib/python3.6/dist-packages (from spacy>=2.0.18->fastai) (2.0.2)\n",
            "Requirement already satisfied: thinc<7.1.0,>=7.0.8 in /usr/local/lib/python3.6/dist-packages (from spacy>=2.0.18->fastai) (7.0.8)\n",
            "Requirement already satisfied: preshed<2.1.0,>=2.0.1 in /usr/local/lib/python3.6/dist-packages (from spacy>=2.0.18->fastai) (2.0.1)\n",
            "Requirement already satisfied: pyparsing>=2.0.2 in /usr/local/lib/python3.6/dist-packages (from packaging->fastai) (2.4.2)\n",
            "Requirement already satisfied: attrs in /usr/local/lib/python3.6/dist-packages (from packaging->fastai) (19.1.0)\n",
            "Requirement already satisfied: six in /usr/local/lib/python3.6/dist-packages (from packaging->fastai) (1.12.0)\n",
            "Requirement already satisfied: cycler>=0.10 in /usr/local/lib/python3.6/dist-packages (from matplotlib->fastai) (0.10.0)\n",
            "Requirement already satisfied: kiwisolver>=1.0.1 in /usr/local/lib/python3.6/dist-packages (from matplotlib->fastai) (1.1.0)\n",
            "Requirement already satisfied: python-dateutil>=2.1 in /usr/local/lib/python3.6/dist-packages (from matplotlib->fastai) (2.5.3)\n",
            "Requirement already satisfied: olefile in /usr/local/lib/python3.6/dist-packages (from Pillow->fastai) (0.46)\n",
            "Requirement already satisfied: urllib3<1.25,>=1.21.1 in /usr/local/lib/python3.6/dist-packages (from requests->fastai) (1.24.3)\n",
            "Requirement already satisfied: certifi>=2017.4.17 in /usr/local/lib/python3.6/dist-packages (from requests->fastai) (2019.6.16)\n",
            "Requirement already satisfied: idna<2.9,>=2.5 in /usr/local/lib/python3.6/dist-packages (from requests->fastai) (2.8)\n",
            "Requirement already satisfied: chardet<3.1.0,>=3.0.2 in /usr/local/lib/python3.6/dist-packages (from requests->fastai) (3.0.4)\n",
            "Requirement already satisfied: pytz>=2011k in /usr/local/lib/python3.6/dist-packages (from pandas->fastai) (2018.9)\n",
            "Requirement already satisfied: tqdm<5.0.0,>=4.10.0 in /usr/local/lib/python3.6/dist-packages (from thinc<7.1.0,>=7.0.8->spacy>=2.0.18->fastai) (4.28.1)\n",
            "Requirement already satisfied: setuptools in /usr/local/lib/python3.6/dist-packages (from kiwisolver>=1.0.1->matplotlib->fastai) (41.0.1)\n",
            "Collecting emoji\n",
            "\u001b[?25l  Downloading https://files.pythonhosted.org/packages/1b/d7/2746b4dd67375ce253e777ba54869545d24d2b0249ebcf83735c99df68d5/emoji-0.5.3.tar.gz (43kB)\n",
            "\u001b[K     |████████████████████████████████| 51kB 4.4MB/s \n",
            "\u001b[?25hBuilding wheels for collected packages: emoji\n",
            "  Building wheel for emoji (setup.py) ... \u001b[?25l\u001b[?25hdone\n",
            "  Created wheel for emoji: filename=emoji-0.5.3-cp36-none-any.whl size=42175 sha256=c3f1611ca03c91684bc818c0ad78dcb8d0542c7eab7fc3dfe3a6640090c8f196\n",
            "  Stored in directory: /root/.cache/pip/wheels/86/09/26/f944015841423cd516e8a97f30e29be59e53461aea8b7d3458\n",
            "Successfully built emoji\n",
            "Installing collected packages: emoji\n",
            "Successfully installed emoji-0.5.3\n"
          ],
          "name": "stdout"
        }
      ]
    },
    {
      "cell_type": "code",
      "metadata": {
        "id": "DvwUYZGmKROK",
        "colab_type": "code",
        "colab": {
          "base_uri": "https://localhost:8080/",
          "height": 119
        },
        "outputId": "03569098-5d70-4756-f8b4-c77de3cd4b5c"
      },
      "source": [
        "import pandas as pd\n",
        "import numpy as np\n",
        "from ast import literal_eval\n",
        "from tqdm import tqdm_notebook\n",
        "from collections import Counter\n",
        "import re\n",
        "\n",
        "#viz\n",
        "import matplotlib.pyplot as plt\n",
        "import seaborn as sns\n",
        "\n",
        "#fastai\n",
        "import fastai\n",
        "from fastai.text import *\n",
        "from fastai.callbacks import CSVLogger\n",
        "\n",
        "#pythainlp\n",
        "from pythainlp.ulmfit import *"
      ],
      "execution_count": 4,
      "outputs": [
        {
          "output_type": "stream",
          "text": [
            "Download: wiki_lm_lstm\n",
            "wiki_lm_lstm 0.32\n"
          ],
          "name": "stdout"
        },
        {
          "output_type": "stream",
          "text": [
            "100%|██████████| 1050919089/1050919089 [00:25<00:00, 41157162.35it/s]\n"
          ],
          "name": "stderr"
        },
        {
          "output_type": "stream",
          "text": [
            "Download: wiki_itos_lstm\n",
            "wiki_itos_lstm 0.32\n"
          ],
          "name": "stdout"
        },
        {
          "output_type": "stream",
          "text": [
            "100%|██████████| 1530484/1530484 [00:00<00:00, 19090275.60it/s]\n"
          ],
          "name": "stderr"
        }
      ]
    },
    {
      "cell_type": "code",
      "metadata": {
        "id": "PnQcr3gWKROS",
        "colab_type": "code",
        "colab": {}
      },
      "source": [
        "#get dummy data\n",
        "imdb = untar_data(URLs.IMDB_SAMPLE)\n",
        "dummy_df = pd.read_csv(imdb/'texts.csv')\n",
        "\n",
        "#get vocab\n",
        "thwiki_itos = pickle.load(open(_THWIKI_LSTM['itos_fname'],'rb'))\n",
        "thwiki_vocab = fastai.text.transform.Vocab(thwiki_itos)\n",
        "\n",
        "#dummy databunch\n",
        "tt = Tokenizer(tok_func = ThaiTokenizer, lang = 'th', pre_rules = pre_rules_th, post_rules=post_rules_th)\n",
        "processor = [TokenizeProcessor(tokenizer=tt, chunksize=10000, mark_fields=False),\n",
        "            NumericalizeProcessor(vocab=thwiki_vocab, max_vocab=60000, min_freq=3)]\n",
        "data_lm = (TextList.from_df(dummy_df, imdb, cols=['text'], processor=processor)\n",
        "    .random_split_by_pct(0.2)\n",
        "    .label_for_lm()\n",
        "    .databunch(bs=64))\n",
        "\n",
        "\n",
        "data_lm.sanity_check()"
      ],
      "execution_count": 0,
      "outputs": []
    },
    {
      "cell_type": "code",
      "metadata": {
        "id": "VJI1MZzvKROW",
        "colab_type": "code",
        "colab": {
          "base_uri": "https://localhost:8080/",
          "height": 34
        },
        "outputId": "f8db8372-fc6a-44ff-f7cd-9e4e8d99684b"
      },
      "source": [
        "#check vocab size\n",
        "len(data_lm.vocab.itos)"
      ],
      "execution_count": 6,
      "outputs": [
        {
          "output_type": "execute_result",
          "data": {
            "text/plain": [
              "60005"
            ]
          },
          "metadata": {
            "tags": []
          },
          "execution_count": 6
        }
      ]
    },
    {
      "cell_type": "code",
      "metadata": {
        "id": "B9DJVRZ-KROb",
        "colab_type": "code",
        "colab": {
          "base_uri": "https://localhost:8080/",
          "height": 1000
        },
        "outputId": "54031979-d708-4550-d0b7-8cd42b07cf96"
      },
      "source": [
        "config = dict(emb_sz=400, n_hid=1550, n_layers=4, pad_token=1, qrnn=False, tie_weights=True, out_bias=True,\n",
        "             output_p=0.25, hidden_p=0.1, input_p=0.2, embed_p=0.02, weight_p=0.15)\n",
        "trn_args = dict(drop_mult=0.9, clip=0.12, alpha=2, beta=1)\n",
        "\n",
        "learn = language_model_learner(data_lm, AWD_LSTM, config=config, pretrained=False, **trn_args)\n",
        "\n",
        "#load pretrained models\n",
        "learn.load_pretrained(**_THWIKI_LSTM)"
      ],
      "execution_count": 7,
      "outputs": [
        {
          "output_type": "execute_result",
          "data": {
            "text/plain": [
              "LanguageLearner(data=TextLMDataBunch;\n",
              "\n",
              "Train: LabelList (800 items)\n",
              "x: LMTextList\n",
              "xxbos   every   once   in   a   long   while   a   movie   will   come   along   that   will   be   so   xxunk   that   i   feel   xxunk   to   xxunk   people .   if   i   labor   all   my   days   and   i   can   save   but   one   soul   from   xxunk   this   movie ,   how   great   will   be   my   joy .   \n",
              "   \n",
              "   where   to   begin   my   xxunk   of   pain .   for   xxunk ,   there   was   a   musical   xxunk   every   five   minutes .   there   was   no   character   development .   every   character   was   a   stereotype .   we   had   xxunk   guy ,   fat   guy   who   xxunk   xxunk ,   xxunk   foreign   guy ,   etc .   the   script   xxunk   as   if   it   were   being   written   as   the   movie   was   being   shot .   the   production   value   was   so   xxunk   low   that   it   xxunk   like   i   was   xxunk   a   junior   high   video   presentation .   have   the   directors ,   producers ,   etc .   ever   even   seen   a   movie   before ?   xxunk   is   getting   worse   and   worse   with   every   new   entry .   the   concept   for   this   movie   xxunk   so   funny .   how   could   you   go   wrong   with   gary   coleman   and   a   xxunk   of   xxunk   xxunk   actors .   but   trust   me   when   i   say   this ,   things   went   wrong ,   xxup very   xxup wrong .,xxbos   name   just   says   it   all .   i   xxunk   this   movie   with   my   dad   when   it   came   out   and   having   xxunk   in   korea   he   had   great   xxunk   for   the   man .   the   xxunk   thing   about   this   film   is   that   it   only   xxunk   on   a   short   period   of   the   man ' s   life   -   xxunk   enough   the   man ' s   entire   life   would   have   made   such   an   epic   xxunk   that   it   is   xxunk   to   imagine   the   cost   for   production .   \n",
              "   \n",
              "   some   xxunk   xxunk   to   the   xxunk   xxunk   about   the   man ,   which   are   cheap   xxunk .   the   theme   of   the   movie   \" duty ,   honor ,   country \"   are   not   just   xxunk   words   xxunk   from   the   lips   of   a   xxunk   officer   -   it   is   the   deep   declaration   of   one   man ' s   total   xxunk   to   his   country .   \n",
              "   \n",
              "   xxunk   peck   being   the   liberal   that   he   was   xxunk   a   better   understanding   of   the   man .   he   does   a   great   job   xxunk   the   fearless   general   xxunk   with   the   humane   side   of   the   man .,xxbos   this   movie   xxunk   at   being   one   of   the   most   unique   movies   you ' ve   seen .   however   this   comes   from   the   fact   that   you   can ' t   make   heads   or   tails   of   this   mess .   it   almost   xxunk   as   a   series   of   challenges   set   up   to   xxunk   xxunk   or   not   you   are   xxunk   to   walk   out   of   the   movie   and   give   up   the   money   you   just   paid .   if   you   don ' t   want   to   feel   xxunk   you ' ll   sit   through   this   xxunk   film   and   xxunk   a   real   sense   of   xxunk   for   the   actors   xxunk ,   they ' ve   all   seen   better   days ,   but   then   you   xxunk   they   xxunk   got   paid   xxunk   a   bit   of   money   to   do   this   and   you ' ll   lose   xxunk   for   them   just   like   you ' ve   xxunk   done   for   the   film .   i   can ' t   go   on   enough   about   this   xxunk   movie ,   its   almost   something   that   ed   wood   would   have   made   and   in   that   case   it   xxunk   would   have   been   his   xxunk .   \n",
              "   \n",
              "   to   start   you   are   forced   to   sit   through   an   opening   dialogue   the   xxunk   of   which   you ' ve   never   seen   /   heard ,   this   thing   has   got   to   be   five   minutes   long .   on   top   of   that   it   is   xxunk ,   as   to   xxunk   that   you   the   viewer   cannot   read .   then   we   meet   mr .   xxunk   and   the   xxunk   of   xxunk   lines   gets   xxunk ,   it   is   as   if   he   is   operating   xxunk   to   get   lines   on   to   the   movie   xxunk   tag   line .   soon   we   meet   stephen   xxunk ,   who   i   xxunk   xxunk )   and   he   does   his   best   not   to   xxunk   in   this   but   xxunk   he   does .   then   comes   the   ultimate   xxunk ,   tara   reid   playing   an   intelligent   role ,   oh   help   us !   tara   reid   is   not   a   very   talented   actress   and   xxunk   she   xxunk   gets   xxunk   in   movies ,   in   my   xxunk   though   she   should   stick   to   movies   of   the   american   pie   type .   \n",
              "   \n",
              "   all   in   all   you   just   may   want   to   see   this   for   yourself   when   it   comes   out   on   video ,   i   know   that   i   got   a   kick   out   of   it ,   i   mean   xxunk   all   be   xxunk   here ,   xxunk   its   xxunk   to   xxunk   in   the   xxunk   of   others .,xxbos   from   the   start ,   you   know   how   this   movie   will   end .   it ' s   so   full   of   clich é s   your   typical   xxup xxunk   member   will   not   even   like   this   movie .   i   give   it   2   out   of   10,   only   because   of   the   acting   of   william   benton .   i   can ' t   believe   people   xxunk   6 +   for   this   movie .   it ' s   so   biased   towards   a   ' certain   point   of   view '   ( once   a   thief xxunk   people   xxunk ' t   born   bad .   neither   are   they   born   good .   they   are   born   with   a   clean   slate .   it ' s   society ,   parents   and   education   what   makes   them   who   they   are .   and   if   they   take   the   wrong   turn ,   somewhere   down   the   line ,   it   xxunk   isn ' t   going   to   be   the   american   xxunk   system   that   gets   them   back   on   track !   xxunk ,   xxunk   this   movie   like   the   xxunk .   i   bet   you   have   better   things   to   do   with   your   time   than   waste   it   on   this   piece   of   xxunk .   \n",
              "   \n",
              "  ,xxbos   i   was   xxunk   enough   to   meet   george   pal   ( and   still   have   my   xxup ds : xxup xxunk   xxunk   xxunk   by   him )   at   a   convention   xxunk   after   the   release ,   and   xxunk   him   why   he   xxunk   to   do   the   film   \" camp \".   before   he   could   answer ,   two   studio   xxunk   xxunk   and   xxunk   me   on   how   the   studio   \" knew   best \"   and   how   \" no   one   will   take   such   a   film   xxunk \".   i   had   been   reading   the   xxunk   xxunk   for   a   couple   of   years   thanks   to   a   friend   ( xxunk   xxunk   of   the   1970 s   will   recall   xxunk   and   his   band ?   i   was   in   a   couple   of   years   of   that   with   him ),   and   had   higher   hopes   than   what   we   got .   \n",
              "   \n",
              "   the   xxunk   xxunk   that   no   high   adventure   would   ever   be   done   xxunk ,   and   so   doing   ' camp '   was   the   only   way .   several   other   xxunk   xxunk   in   on   my   side ,   with   pal   listening   as   best   he   could .   at   the   end   of   the   little   event ,   pal   came   up   to   us   and   xxunk ,   xxunk   he   could   have   done   more   and   better .   \n",
              "   \n",
              "   xxup star   xxup wars   put   the   lie   to   the   xxunk ,   and   a   year   after   pal ' s   death ,   spielberg   and   lucas   xxunk   that   doc   savage   could   have   xxunk   been   the   next   major   movie   franchise xxunk if   it   xxunk ' t   been   for   the   xxunk .   \n",
              "   \n",
              "   tear   out   the   memory   or   history   of   doc ,   and   the   film   would   have   been   worth   a   6   /   10   rating   as   nothing   more   than   a   xxunk   xxunk   seller .   \n",
              "   \n",
              "   but   xxunk   the   legacy   like   that   was   no   less   an   xxunk   than   killing   a   baby   in   the   xxunk .   \n",
              "   \n",
              "   doc   savage   can   still   come   to   the   screen ,   and   survive   the   xxunk   xxunk   by   the   xxunk   to   indiana   jones ,   but   it   would   have   to   be   done   in   all   xxunk   and   xxunk   to   xxunk   the   glory   that   we   should   expect   from   the   first   american   xxunk .   \n",
              "   \n",
              "   xxup xxunk :   yes ,   there   was   a   second   script   for   xxup xxunk   xxup of   xxup evil ,   and   it ' s   a   lot   more   serious .   yes ,   there   was   xxunk   xxunk   shot ,   but   mostly   xxunk   xxunk   and   very   little   with   actors .   and ,   yes ,   there   _ is _   a   xxunk   of   ron   xxunk   xxunk   over   a   brick   wall   and   xxunk   at   something   over   his   shoulder   with   a   xxunk   built   bronze   xxunk .   xxunk ' s   xxunk   a   xxunk   over   a   button   down   white   shirt   with   a   bronze   tie ,   and   the   words   \" xxup doc   xxup savage :   xxup xxunk   xxup of   xxup evil xxunk coming   next   summer !\"   xxup xxunk :   if   anyone   knows   who   the   studio   xxunk   were   that   xxunk   george   pal   in   1975   to   san   diego   for   the   convention ,   xxunk   the   xxunk   up   the   side   of   the   head   and   call   them   the   xxunk   that   they   are .   at   the   time ,   they   were   doing   xxunk   and   fu   xxunk   in   stripes   and   xxunk   canvas   xxunk ,   and   carrying   paramount   xxunk .\n",
              "y: LMLabelList\n",
              ",,,,\n",
              "Path: /root/.fastai/data/imdb_sample;\n",
              "\n",
              "Valid: LabelList (200 items)\n",
              "x: LMTextList\n",
              "xxbos   does   any   one   know   what   the   2   sports   cars   were ?   i   think   robert   stack ' s   might   have   been   a   xxunk . rock   hudson ' s   character   told   his   father   he   was   taking   a   job   in   iraq   , isn ' t   that   xxunk ?   i   have   had   xxunk   malone   in   my   xxunk   bank   most   of   my   life   , maybe   this   was   the   film   that   xxunk   me . xxunk   xxunk   sure   did   have   some   xxunk   in   this   film   and   xxunk   xxunk   malone   but   xxunk ' s   part   made   a   more   xxunk   impact   so   she   got   the   oscar   for   best   supporting   role . was   xxunk ' s   part   xxunk   a   leading   role ? old   man   xxunk   character   was   was   xxunk   a   pretty   common   picture   of   xxunk   of   his   era   in   that   he   was   a   regular   guy   who   made   it   big   in   an   emerging   industry   but   in   building   a   whole   town   he   had   xxunk   his   children   to   have   his   wife   bring   them   up . in   time , being   xxunk   he   xxunk   that   they   were   all   he   really   had   and   they   were   xxunk   rotten , looking   for   attention , so   rather   than   try   to   xxunk   to   his   children   he   xxunk   his   head   off . an   ancient   morality   tale . but   xxunk , what   were   those   sports   cars ?,xxbos   god   bless   80 ' s   xxunk   films .   this   is   a   fun ,   fun   movie .   this   is   what   xxunk   films   are   all   about .   now   i ' m   not   xxunk   horror   movies ,   just   xxunk   films .   it   goes   like   this :   a   high   school   nerd   is   xxunk   on   by   all   these   stupid   xxunk   and   xxunk ,   and   then   one   of   their   xxunk   goes   xxunk   wrong .   xxunk   and   back   for   revenge ,   xxunk   a   joker   /   xxunk   mask   ( pretty   xxunk   looking ,   might   i   add ),   marty   begins   to   kill   off   those   xxunk   one   by   one   many   years   later ,   after   he   xxunk   to   make   them   believe   that   their   old   xxunk   high   school   is   having   a   reunion .   that   is   xxunk   the   plot ?   what ' s   wrong   with   that ?   that ' s   the   beauty   of   80 ' s   xxunk   films ,   most   of   them   i   would   say .   a   lot   of   things   could   be   so   xxunk ,   but   they   keep   drawing   you   more   in   an '   in   as   they   go   by .   xxunk   this   film .   \n",
              "   \n",
              "   it   features   some   xxunk   xxunk ,   and   some   are   xxunk   creative   as   well .   ( poisoning   of   a   xxunk   can ,   acid   bath ,   i   can ' t   remember   a   xxunk   ever   being   used   before   in   any   other   xxunk   film   either ) it   really   is   a   fun ,   fun   movie .   that ' s   all   it   is .   nevermind   the   fact   that   the   characters   are   complete   xxunk ,   never   mind   their   xxunk ,   and   never   mind   the   xxunk ,   random   things   that   xxunk   in   this   film .   such   as   lights   being   able   to   be   controlled   by   the   killer   ( when   he ' s   not   even   switching   any   xxunk ,   you ' ll   see )   and   xxunk   being   able   to   xxunk   up   blood ,   xxunk   being   able   to   have   acid   come   out   of   them ,   just   use   that   as   part   of   your   entertainment !   because   xxunk   what   really   makes   it   xxunk .   \n",
              "   \n",
              "   movies   like   this   represent   80 ' s   xxunk .   never   again   could   movies   like   this   get   made ,   know   why ?   it   isn ' t   the   80 ' s   xxunk .   that   is   why   you   should   just   xxunk   them   for   what   they   are ,   good   fun !   i   highly   xxunk   this   film   if   you ' re   a   hardcore   fan   of   xxunk   such   as   friday   the   13 th .   \n",
              "   \n",
              "   one   last   note   this   movie   also   had   a   kick   ass   xxunk   as   well ,   marty   xxunk .   a   xxunk ,   nerd ,   who   kills   all   his   old   xxunk   in   a   xxunk   xxunk   mask .   a   good   xxunk   makes   a   good   xxunk .   simon   xxunk ,   who   played   marty   xxunk   xxunk   suicide   xxunk   after   xxunk   high   was   released .   that   alone   xxunk   something   xxunk   to   the   film ,   and   sticks   with   it   and   it   even   makes   you   feel   more   sorry   for   the   marty   character ,   i   guess .   all   in   all ,   great   80 ' s   xxunk   fun !   it ' s   a   shame   it   will   never   be   the   same   again xxunk,xxbos   the   basic   formula   for   the   original   series   was ;   take   someone ,   get   the   audience   to   like   them ,   then   put   them   into   xxunk   danger .   this   formula   xxunk   for   the   32   xxunk   made   between   1964 - 68.   \n",
              "   \n",
              "   now ,   we   jump   forward   40   years   to   xxunk   we   are   xxunk   to   alan   tracy ,   a   xxunk   xxunk   college   school   kid ,   with   his   friend ,   fermat ,   a   young   xxunk .   they   are   xxunk   off   by   lady   xxunk   in   her   pink   ford   xxunk   to   the   island   paradise   where   the   tracy   family   live ,   for   the   school   xxunk .   almost   xxunk ,   they   are   left   in   the   care   of   xxunk   and   his   daughter ,   xxunk   xxunk   the   xxunk   go   to   rescue   john   from   xxunk   5   which   has   been   xxunk   by   a   xxunk   xxunk .   this   is   all   part   of   the   hood ' s   scheme   to   take   over   tracy   island   so   that   he   can   steal   the   xxunk   machines   xxunk   \n",
              "   \n",
              "   xxunk to   rob   a   bank !   \n",
              "   \n",
              "   yes .   the   plot   xxup is   as   xxunk   as   that !   \n",
              "   \n",
              "   the   dialogue   is   xxunk ,   the   acting   more   wooden   than   that   of   the   ( xxunk )   puppets ,   the   effects ,   anything   but   special   and   hans   xxunk ' s   score xxunk   what   little   there   was   of   barry   gray ' s   glorious   theme   xxunk   through   xxunk ' s   xxunk   xxunk .   the   rest   of   the   score   was   xxunk   xxunk .   in   fact ,   part   of   the   score   was   broadcast   the   following   week   on   the   radio   and   didn ' t   xxunk   it !   i   didn ' t   even   xxunk   to   stay   to   witness   xxunk ' s   xxunk   xxunk   with   the   end   titles   \n",
              "   \n",
              "   to   be   fair ,   ron   cook   xxunk   xxunk   well   as   parker ,   he   and   sophia   myles   as   xxunk   xxunk   xxunk .   with   the   right   material ,   they   could   have   been   show   xxunk .   the   xxup cgi   work   was   what   i   would   have   called   leading   edge   -   5   years   ago .   \n",
              "   \n",
              "   the   dynamics   of   the   main   craft   were   just   wrong ;   the   original   series   models   at   least   xxunk   as   if   they   had   mass   \n",
              "   \n",
              "   another   xxunk   point   is   that   the   whole   production   xxunk   to   be   one   long   set   of   product   xxunk ,   from   every   vehicle   being   built   by   ford   to   the   entire   content   of   the   tracy   xxunk   being   produced   by   ben   &   jerry ' s .   \n",
              "   \n",
              "   my   son   ( 9 )   xxunk   the   film   but   this   cross   between   spy   kids   and   ' xxunk ',   xxunk   xxunk   at   his   age   group ,   added   nothing   to   the   xxunk   legend .   when   star   trek   hit   the   big   screen   in   1979   with   ' the   motion   picture ',   a   whole   new   xxunk   of   life   was   xxunk   into   the   franchise   which   then   continued   for   another   20   years   or   so .   with   this   film ,   xxunk   has   xxunk   a   golden   opportunity   to   do   the   same   with   the   xxunk   franchise .   \n",
              "   \n",
              "   i   xxunk   that   this   film ,   like   ' the   avengers '   and   ' the   saint '   before   it ,   will   sink   into   xxunk   within   6   months ,   leaving   the   original   series   to   its   ' classic '   status .,xxbos   the   views   of   earth   that   are   xxunk   in   this   film   to   have   been   xxunk   by   xxup nasa   have   xxunk   been   xxunk   with   the   historical   weather   data   for   the   time   of   apollo   11,   and   show   a   good   match   between   the   cloud   patterns   in   the   video   sequence   and   the   xxunk   xxunk   records   on   the   day .   \n",
              "   \n",
              "   this   would   xxunk   to   xxunk   the   entire   argument   put   forward   in   the   film   that   the   \" whole   earth \"   picture   is   xxunk   a   small   part   of   the   planet   framed   by   the   spacecraft   window .   \n",
              "   \n",
              "   i   am   waiting   for   bart   xxunk   to   now   xxunk   that   the   historical   weather   data   has   been   xxunk   by   xxup nasa ,   though   that   would   no   doubt   xxunk   them   in   also   xxunk   every   xxunk   newspaper   copy   with   a   weather   map ,   and   the   ones   in   private   hands   would   still   be   a   problem .   \n",
              "   \n",
              "   ah ,   a   response :   \" xxunk   to   xxunk   this   movie   by   xxunk   to   xxup nasa   weather   data   i ' d   say   is   a   xxunk ,   but   weak   and   xxunk   argument .   what   about   the   rest   of   the   xxunk   and   xxunk   in   the   movie ?   a   certain   wise   man   once   said   something   about   xxunk   xxunk   and   xxunk   xxunk .   do   you   in   any   way   feel   that   maybe   this   could   xxunk   to   what   you   are   xxunk   to   do   here ?   : - )   this   movie   is   just   packed   with   xxunk   evidence   against   the   xxunk   once   made   by   u . s .   government   that   the   xxunk   were   a   success ,   and   that   man   now   are   true   masters   of   the   universe .   things   are   xxunk   never   xxunk   what   they   xxunk ..   just   watch   the   movie ,   and   i   dear   say   you ' ll   see   things   a   bit   different   than   before .\"   \n",
              "   \n",
              "   first   off ,   weather   data   doesn ' t   come   from   xxup nasa ,   it   comes   for   met   xxunk   around   the   world .   second ,   the   weather   data   xxunk   a   major   xxunk   in   the   film .   third ,   far   from   being   \" packed   with   xxunk   evidence \",   the   remaining   xxunk   in   the   film   have   been   xxunk   xxunk .   xxunk   thought   he   had   a   xxunk   secret   piece   of   film ,   so   he   edited   it   and   added   his   own   interpretation .   xxunk   for   him ,   his   source   film   is   public   domain ,   and   the   xxunk   xxunk   edited   out   xxunk   his   xxunk .,xxbos   xxup swing !   is   an   important   film   because   it ' s   one   of   the   remaining   xxunk   and   xxunk   films   from   the   1930 s .   many   of   these   films   have   simply   xxunk   so   xxunk   that   they   are   xxunk ,   but   this   one   is   in   xxunk   good   shape .   it ' s   also   a   nice   chance   to   see   many   of   the   talented   black   xxunk   of   the   period   just   after   the   xxunk   of   the   old   cotton   xxunk   time   all   but   xxunk   today .   \n",
              "   \n",
              "   xxunk ,   while   the   film   is   xxunk   important   and   has   some   lovely   performances ,   it ' s   also   a   mess .   the   main   plot   is   very   similar   to   the   hollywood   xxunk   of   the   xxunk   a   prima   donna   who   is   going   to   xxunk   the   show   and   the   surprise   unknown   who   xxunk   from   no   where   to   save   the   day .   however ,   the   writing   is   just   xxunk   and   a   bit   xxunk   at   xxunk   projects   images   of   black   america   that   some   might   find   a   bit   xxunk .   this   is   because   before   the   plot   really   gets   going ,   you   are   xxunk   to   a   xxunk   xxunk   who   lives   off   his   hard   working   wife   ( a   popular   stereotype   of   the   time )   and   when   he   is   xxunk   with   a   xxunk   ( who ,   by   the   way ,   xxunk   xxunk   this   role ),   they   have   a   fight   which   xxunk   like   a   scene   from   xxup wwe   smackdown !   and ,   the   one   lady   wants   to   cut   the   other   lady   with   a   straight   xxunk   xxunk   scene   xxunk !   later   in   the   film ,   when   the   prima   donna   is   xxunk   xxunk ,   her   husband   xxunk   her   in   the   face   and   everyone   xxunk   him !   it   xxunk   like   the   film ,   at   times ,   wants   to   appeal   to   the   xxunk   common   xxunk   in   the   audience   xxup plus   they   can ' t   even   do   this   xxunk   some   of   the   worst   acting   i ' ve   seen   in   a   very   long   time .   \n",
              "   \n",
              "   still ,   if   you   can   look   past   a   xxunk   production   in   just   about   every   way   ( with   xxunk   characters ,   bad   acting   and   direction   and   poor   writing ),   this   one   might   be   worth   a   xxunk   so   you   can   see   excellent   singing   and   tap   xxunk   well   as   to   catch   a   xxunk   of   xxunk   black   culture .   just   don ' t   say   i   didn ' t   xxunk   you   about   the   xxunk ' s   really ,   really   bad !\n",
              "y: LMLabelList\n",
              ",,,,\n",
              "Path: /root/.fastai/data/imdb_sample;\n",
              "\n",
              "Test: None, model=SequentialRNN(\n",
              "  (0): AWD_LSTM(\n",
              "    (encoder): Embedding(60005, 400, padding_idx=1)\n",
              "    (encoder_dp): EmbeddingDropout(\n",
              "      (emb): Embedding(60005, 400, padding_idx=1)\n",
              "    )\n",
              "    (rnns): ModuleList(\n",
              "      (0): WeightDropout(\n",
              "        (module): LSTM(400, 1550, batch_first=True)\n",
              "      )\n",
              "      (1): WeightDropout(\n",
              "        (module): LSTM(1550, 1550, batch_first=True)\n",
              "      )\n",
              "      (2): WeightDropout(\n",
              "        (module): LSTM(1550, 1550, batch_first=True)\n",
              "      )\n",
              "      (3): WeightDropout(\n",
              "        (module): LSTM(1550, 400, batch_first=True)\n",
              "      )\n",
              "    )\n",
              "    (input_dp): RNNDropout()\n",
              "    (hidden_dps): ModuleList(\n",
              "      (0): RNNDropout()\n",
              "      (1): RNNDropout()\n",
              "      (2): RNNDropout()\n",
              "      (3): RNNDropout()\n",
              "    )\n",
              "  )\n",
              "  (1): LinearDecoder(\n",
              "    (decoder): Linear(in_features=400, out_features=60005, bias=True)\n",
              "    (output_dp): RNNDropout()\n",
              "  )\n",
              "), opt_func=functools.partial(<class 'torch.optim.adam.Adam'>, betas=(0.9, 0.99)), loss_func=FlattenedLoss of CrossEntropyLoss(), metrics=[<function accuracy at 0x7f3f5df50ea0>], true_wd=True, bn_wd=True, wd=0.01, train_bn=True, path=PosixPath('/root/.fastai/data/imdb_sample'), model_dir='models', callback_fns=[functools.partial(<class 'fastai.basic_train.Recorder'>, add_time=True, silent=False), functools.partial(<class 'fastai.train.GradientClipping'>, clip=0.12)], callbacks=[RNNTrainer\n",
              "learn: LanguageLearner(data=TextLMDataBunch;\n",
              "\n",
              "Train: LabelList (800 items)\n",
              "x: LMTextList\n",
              "xxbos   every   once   in   a   long   while   a   movie   will   come   along   that   will   be   so   xxunk   that   i   feel   xxunk   to   xxunk   people .   if   i   labor   all   my   days   and   i   can   save   but   one   soul   from   xxunk   this   movie ,   how   great   will   be   my   joy .   \n",
              "   \n",
              "   where   to   begin   my   xxunk   of   pain .   for   xxunk ,   there   was   a   musical   xxunk   every   five   minutes .   there   was   no   character   development .   every   character   was   a   stereotype .   we   had   xxunk   guy ,   fat   guy   who   xxunk   xxunk ,   xxunk   foreign   guy ,   etc .   the   script   xxunk   as   if   it   were   being   written   as   the   movie   was   being   shot .   the   production   value   was   so   xxunk   low   that   it   xxunk   like   i   was   xxunk   a   junior   high   video   presentation .   have   the   directors ,   producers ,   etc .   ever   even   seen   a   movie   before ?   xxunk   is   getting   worse   and   worse   with   every   new   entry .   the   concept   for   this   movie   xxunk   so   funny .   how   could   you   go   wrong   with   gary   coleman   and   a   xxunk   of   xxunk   xxunk   actors .   but   trust   me   when   i   say   this ,   things   went   wrong ,   xxup very   xxup wrong .,xxbos   name   just   says   it   all .   i   xxunk   this   movie   with   my   dad   when   it   came   out   and   having   xxunk   in   korea   he   had   great   xxunk   for   the   man .   the   xxunk   thing   about   this   film   is   that   it   only   xxunk   on   a   short   period   of   the   man ' s   life   -   xxunk   enough   the   man ' s   entire   life   would   have   made   such   an   epic   xxunk   that   it   is   xxunk   to   imagine   the   cost   for   production .   \n",
              "   \n",
              "   some   xxunk   xxunk   to   the   xxunk   xxunk   about   the   man ,   which   are   cheap   xxunk .   the   theme   of   the   movie   \" duty ,   honor ,   country \"   are   not   just   xxunk   words   xxunk   from   the   lips   of   a   xxunk   officer   -   it   is   the   deep   declaration   of   one   man ' s   total   xxunk   to   his   country .   \n",
              "   \n",
              "   xxunk   peck   being   the   liberal   that   he   was   xxunk   a   better   understanding   of   the   man .   he   does   a   great   job   xxunk   the   fearless   general   xxunk   with   the   humane   side   of   the   man .,xxbos   this   movie   xxunk   at   being   one   of   the   most   unique   movies   you ' ve   seen .   however   this   comes   from   the   fact   that   you   can ' t   make   heads   or   tails   of   this   mess .   it   almost   xxunk   as   a   series   of   challenges   set   up   to   xxunk   xxunk   or   not   you   are   xxunk   to   walk   out   of   the   movie   and   give   up   the   money   you   just   paid .   if   you   don ' t   want   to   feel   xxunk   you ' ll   sit   through   this   xxunk   film   and   xxunk   a   real   sense   of   xxunk   for   the   actors   xxunk ,   they ' ve   all   seen   better   days ,   but   then   you   xxunk   they   xxunk   got   paid   xxunk   a   bit   of   money   to   do   this   and   you ' ll   lose   xxunk   for   them   just   like   you ' ve   xxunk   done   for   the   film .   i   can ' t   go   on   enough   about   this   xxunk   movie ,   its   almost   something   that   ed   wood   would   have   made   and   in   that   case   it   xxunk   would   have   been   his   xxunk .   \n",
              "   \n",
              "   to   start   you   are   forced   to   sit   through   an   opening   dialogue   the   xxunk   of   which   you ' ve   never   seen   /   heard ,   this   thing   has   got   to   be   five   minutes   long .   on   top   of   that   it   is   xxunk ,   as   to   xxunk   that   you   the   viewer   cannot   read .   then   we   meet   mr .   xxunk   and   the   xxunk   of   xxunk   lines   gets   xxunk ,   it   is   as   if   he   is   operating   xxunk   to   get   lines   on   to   the   movie   xxunk   tag   line .   soon   we   meet   stephen   xxunk ,   who   i   xxunk   xxunk )   and   he   does   his   best   not   to   xxunk   in   this   but   xxunk   he   does .   then   comes   the   ultimate   xxunk ,   tara   reid   playing   an   intelligent   role ,   oh   help   us !   tara   reid   is   not   a   very   talented   actress   and   xxunk   she   xxunk   gets   xxunk   in   movies ,   in   my   xxunk   though   she   should   stick   to   movies   of   the   american   pie   type .   \n",
              "   \n",
              "   all   in   all   you   just   may   want   to   see   this   for   yourself   when   it   comes   out   on   video ,   i   know   that   i   got   a   kick   out   of   it ,   i   mean   xxunk   all   be   xxunk   here ,   xxunk   its   xxunk   to   xxunk   in   the   xxunk   of   others .,xxbos   from   the   start ,   you   know   how   this   movie   will   end .   it ' s   so   full   of   clich é s   your   typical   xxup xxunk   member   will   not   even   like   this   movie .   i   give   it   2   out   of   10,   only   because   of   the   acting   of   william   benton .   i   can ' t   believe   people   xxunk   6 +   for   this   movie .   it ' s   so   biased   towards   a   ' certain   point   of   view '   ( once   a   thief xxunk   people   xxunk ' t   born   bad .   neither   are   they   born   good .   they   are   born   with   a   clean   slate .   it ' s   society ,   parents   and   education   what   makes   them   who   they   are .   and   if   they   take   the   wrong   turn ,   somewhere   down   the   line ,   it   xxunk   isn ' t   going   to   be   the   american   xxunk   system   that   gets   them   back   on   track !   xxunk ,   xxunk   this   movie   like   the   xxunk .   i   bet   you   have   better   things   to   do   with   your   time   than   waste   it   on   this   piece   of   xxunk .   \n",
              "   \n",
              "  ,xxbos   i   was   xxunk   enough   to   meet   george   pal   ( and   still   have   my   xxup ds : xxup xxunk   xxunk   xxunk   by   him )   at   a   convention   xxunk   after   the   release ,   and   xxunk   him   why   he   xxunk   to   do   the   film   \" camp \".   before   he   could   answer ,   two   studio   xxunk   xxunk   and   xxunk   me   on   how   the   studio   \" knew   best \"   and   how   \" no   one   will   take   such   a   film   xxunk \".   i   had   been   reading   the   xxunk   xxunk   for   a   couple   of   years   thanks   to   a   friend   ( xxunk   xxunk   of   the   1970 s   will   recall   xxunk   and   his   band ?   i   was   in   a   couple   of   years   of   that   with   him ),   and   had   higher   hopes   than   what   we   got .   \n",
              "   \n",
              "   the   xxunk   xxunk   that   no   high   adventure   would   ever   be   done   xxunk ,   and   so   doing   ' camp '   was   the   only   way .   several   other   xxunk   xxunk   in   on   my   side ,   with   pal   listening   as   best   he   could .   at   the   end   of   the   little   event ,   pal   came   up   to   us   and   xxunk ,   xxunk   he   could   have   done   more   and   better .   \n",
              "   \n",
              "   xxup star   xxup wars   put   the   lie   to   the   xxunk ,   and   a   year   after   pal ' s   death ,   spielberg   and   lucas   xxunk   that   doc   savage   could   have   xxunk   been   the   next   major   movie   franchise xxunk if   it   xxunk ' t   been   for   the   xxunk .   \n",
              "   \n",
              "   tear   out   the   memory   or   history   of   doc ,   and   the   film   would   have   been   worth   a   6   /   10   rating   as   nothing   more   than   a   xxunk   xxunk   seller .   \n",
              "   \n",
              "   but   xxunk   the   legacy   like   that   was   no   less   an   xxunk   than   killing   a   baby   in   the   xxunk .   \n",
              "   \n",
              "   doc   savage   can   still   come   to   the   screen ,   and   survive   the   xxunk   xxunk   by   the   xxunk   to   indiana   jones ,   but   it   would   have   to   be   done   in   all   xxunk   and   xxunk   to   xxunk   the   glory   that   we   should   expect   from   the   first   american   xxunk .   \n",
              "   \n",
              "   xxup xxunk :   yes ,   there   was   a   second   script   for   xxup xxunk   xxup of   xxup evil ,   and   it ' s   a   lot   more   serious .   yes ,   there   was   xxunk   xxunk   shot ,   but   mostly   xxunk   xxunk   and   very   little   with   actors .   and ,   yes ,   there   _ is _   a   xxunk   of   ron   xxunk   xxunk   over   a   brick   wall   and   xxunk   at   something   over   his   shoulder   with   a   xxunk   built   bronze   xxunk .   xxunk ' s   xxunk   a   xxunk   over   a   button   down   white   shirt   with   a   bronze   tie ,   and   the   words   \" xxup doc   xxup savage :   xxup xxunk   xxup of   xxup evil xxunk coming   next   summer !\"   xxup xxunk :   if   anyone   knows   who   the   studio   xxunk   were   that   xxunk   george   pal   in   1975   to   san   diego   for   the   convention ,   xxunk   the   xxunk   up   the   side   of   the   head   and   call   them   the   xxunk   that   they   are .   at   the   time ,   they   were   doing   xxunk   and   fu   xxunk   in   stripes   and   xxunk   canvas   xxunk ,   and   carrying   paramount   xxunk .\n",
              "y: LMLabelList\n",
              ",,,,\n",
              "Path: /root/.fastai/data/imdb_sample;\n",
              "\n",
              "Valid: LabelList (200 items)\n",
              "x: LMTextList\n",
              "xxbos   does   any   one   know   what   the   2   sports   cars   were ?   i   think   robert   stack ' s   might   have   been   a   xxunk . rock   hudson ' s   character   told   his   father   he   was   taking   a   job   in   iraq   , isn ' t   that   xxunk ?   i   have   had   xxunk   malone   in   my   xxunk   bank   most   of   my   life   , maybe   this   was   the   film   that   xxunk   me . xxunk   xxunk   sure   did   have   some   xxunk   in   this   film   and   xxunk   xxunk   malone   but   xxunk ' s   part   made   a   more   xxunk   impact   so   she   got   the   oscar   for   best   supporting   role . was   xxunk ' s   part   xxunk   a   leading   role ? old   man   xxunk   character   was   was   xxunk   a   pretty   common   picture   of   xxunk   of   his   era   in   that   he   was   a   regular   guy   who   made   it   big   in   an   emerging   industry   but   in   building   a   whole   town   he   had   xxunk   his   children   to   have   his   wife   bring   them   up . in   time , being   xxunk   he   xxunk   that   they   were   all   he   really   had   and   they   were   xxunk   rotten , looking   for   attention , so   rather   than   try   to   xxunk   to   his   children   he   xxunk   his   head   off . an   ancient   morality   tale . but   xxunk , what   were   those   sports   cars ?,xxbos   god   bless   80 ' s   xxunk   films .   this   is   a   fun ,   fun   movie .   this   is   what   xxunk   films   are   all   about .   now   i ' m   not   xxunk   horror   movies ,   just   xxunk   films .   it   goes   like   this :   a   high   school   nerd   is   xxunk   on   by   all   these   stupid   xxunk   and   xxunk ,   and   then   one   of   their   xxunk   goes   xxunk   wrong .   xxunk   and   back   for   revenge ,   xxunk   a   joker   /   xxunk   mask   ( pretty   xxunk   looking ,   might   i   add ),   marty   begins   to   kill   off   those   xxunk   one   by   one   many   years   later ,   after   he   xxunk   to   make   them   believe   that   their   old   xxunk   high   school   is   having   a   reunion .   that   is   xxunk   the   plot ?   what ' s   wrong   with   that ?   that ' s   the   beauty   of   80 ' s   xxunk   films ,   most   of   them   i   would   say .   a   lot   of   things   could   be   so   xxunk ,   but   they   keep   drawing   you   more   in   an '   in   as   they   go   by .   xxunk   this   film .   \n",
              "   \n",
              "   it   features   some   xxunk   xxunk ,   and   some   are   xxunk   creative   as   well .   ( poisoning   of   a   xxunk   can ,   acid   bath ,   i   can ' t   remember   a   xxunk   ever   being   used   before   in   any   other   xxunk   film   either ) it   really   is   a   fun ,   fun   movie .   that ' s   all   it   is .   nevermind   the   fact   that   the   characters   are   complete   xxunk ,   never   mind   their   xxunk ,   and   never   mind   the   xxunk ,   random   things   that   xxunk   in   this   film .   such   as   lights   being   able   to   be   controlled   by   the   killer   ( when   he ' s   not   even   switching   any   xxunk ,   you ' ll   see )   and   xxunk   being   able   to   xxunk   up   blood ,   xxunk   being   able   to   have   acid   come   out   of   them ,   just   use   that   as   part   of   your   entertainment !   because   xxunk   what   really   makes   it   xxunk .   \n",
              "   \n",
              "   movies   like   this   represent   80 ' s   xxunk .   never   again   could   movies   like   this   get   made ,   know   why ?   it   isn ' t   the   80 ' s   xxunk .   that   is   why   you   should   just   xxunk   them   for   what   they   are ,   good   fun !   i   highly   xxunk   this   film   if   you ' re   a   hardcore   fan   of   xxunk   such   as   friday   the   13 th .   \n",
              "   \n",
              "   one   last   note   this   movie   also   had   a   kick   ass   xxunk   as   well ,   marty   xxunk .   a   xxunk ,   nerd ,   who   kills   all   his   old   xxunk   in   a   xxunk   xxunk   mask .   a   good   xxunk   makes   a   good   xxunk .   simon   xxunk ,   who   played   marty   xxunk   xxunk   suicide   xxunk   after   xxunk   high   was   released .   that   alone   xxunk   something   xxunk   to   the   film ,   and   sticks   with   it   and   it   even   makes   you   feel   more   sorry   for   the   marty   character ,   i   guess .   all   in   all ,   great   80 ' s   xxunk   fun !   it ' s   a   shame   it   will   never   be   the   same   again xxunk,xxbos   the   basic   formula   for   the   original   series   was ;   take   someone ,   get   the   audience   to   like   them ,   then   put   them   into   xxunk   danger .   this   formula   xxunk   for   the   32   xxunk   made   between   1964 - 68.   \n",
              "   \n",
              "   now ,   we   jump   forward   40   years   to   xxunk   we   are   xxunk   to   alan   tracy ,   a   xxunk   xxunk   college   school   kid ,   with   his   friend ,   fermat ,   a   young   xxunk .   they   are   xxunk   off   by   lady   xxunk   in   her   pink   ford   xxunk   to   the   island   paradise   where   the   tracy   family   live ,   for   the   school   xxunk .   almost   xxunk ,   they   are   left   in   the   care   of   xxunk   and   his   daughter ,   xxunk   xxunk   the   xxunk   go   to   rescue   john   from   xxunk   5   which   has   been   xxunk   by   a   xxunk   xxunk .   this   is   all   part   of   the   hood ' s   scheme   to   take   over   tracy   island   so   that   he   can   steal   the   xxunk   machines   xxunk   \n",
              "   \n",
              "   xxunk to   rob   a   bank !   \n",
              "   \n",
              "   yes .   the   plot   xxup is   as   xxunk   as   that !   \n",
              "   \n",
              "   the   dialogue   is   xxunk ,   the   acting   more   wooden   than   that   of   the   ( xxunk )   puppets ,   the   effects ,   anything   but   special   and   hans   xxunk ' s   score xxunk   what   little   there   was   of   barry   gray ' s   glorious   theme   xxunk   through   xxunk ' s   xxunk   xxunk .   the   rest   of   the   score   was   xxunk   xxunk .   in   fact ,   part   of   the   score   was   broadcast   the   following   week   on   the   radio   and   didn ' t   xxunk   it !   i   didn ' t   even   xxunk   to   stay   to   witness   xxunk ' s   xxunk   xxunk   with   the   end   titles   \n",
              "   \n",
              "   to   be   fair ,   ron   cook   xxunk   xxunk   well   as   parker ,   he   and   sophia   myles   as   xxunk   xxunk   xxunk .   with   the   right   material ,   they   could   have   been   show   xxunk .   the   xxup cgi   work   was   what   i   would   have   called   leading   edge   -   5   years   ago .   \n",
              "   \n",
              "   the   dynamics   of   the   main   craft   were   just   wrong ;   the   original   series   models   at   least   xxunk   as   if   they   had   mass   \n",
              "   \n",
              "   another   xxunk   point   is   that   the   whole   production   xxunk   to   be   one   long   set   of   product   xxunk ,   from   every   vehicle   being   built   by   ford   to   the   entire   content   of   the   tracy   xxunk   being   produced   by   ben   &   jerry ' s .   \n",
              "   \n",
              "   my   son   ( 9 )   xxunk   the   film   but   this   cross   between   spy   kids   and   ' xxunk ',   xxunk   xxunk   at   his   age   group ,   added   nothing   to   the   xxunk   legend .   when   star   trek   hit   the   big   screen   in   1979   with   ' the   motion   picture ',   a   whole   new   xxunk   of   life   was   xxunk   into   the   franchise   which   then   continued   for   another   20   years   or   so .   with   this   film ,   xxunk   has   xxunk   a   golden   opportunity   to   do   the   same   with   the   xxunk   franchise .   \n",
              "   \n",
              "   i   xxunk   that   this   film ,   like   ' the   avengers '   and   ' the   saint '   before   it ,   will   sink   into   xxunk   within   6   months ,   leaving   the   original   series   to   its   ' classic '   status .,xxbos   the   views   of   earth   that   are   xxunk   in   this   film   to   have   been   xxunk   by   xxup nasa   have   xxunk   been   xxunk   with   the   historical   weather   data   for   the   time   of   apollo   11,   and   show   a   good   match   between   the   cloud   patterns   in   the   video   sequence   and   the   xxunk   xxunk   records   on   the   day .   \n",
              "   \n",
              "   this   would   xxunk   to   xxunk   the   entire   argument   put   forward   in   the   film   that   the   \" whole   earth \"   picture   is   xxunk   a   small   part   of   the   planet   framed   by   the   spacecraft   window .   \n",
              "   \n",
              "   i   am   waiting   for   bart   xxunk   to   now   xxunk   that   the   historical   weather   data   has   been   xxunk   by   xxup nasa ,   though   that   would   no   doubt   xxunk   them   in   also   xxunk   every   xxunk   newspaper   copy   with   a   weather   map ,   and   the   ones   in   private   hands   would   still   be   a   problem .   \n",
              "   \n",
              "   ah ,   a   response :   \" xxunk   to   xxunk   this   movie   by   xxunk   to   xxup nasa   weather   data   i ' d   say   is   a   xxunk ,   but   weak   and   xxunk   argument .   what   about   the   rest   of   the   xxunk   and   xxunk   in   the   movie ?   a   certain   wise   man   once   said   something   about   xxunk   xxunk   and   xxunk   xxunk .   do   you   in   any   way   feel   that   maybe   this   could   xxunk   to   what   you   are   xxunk   to   do   here ?   : - )   this   movie   is   just   packed   with   xxunk   evidence   against   the   xxunk   once   made   by   u . s .   government   that   the   xxunk   were   a   success ,   and   that   man   now   are   true   masters   of   the   universe .   things   are   xxunk   never   xxunk   what   they   xxunk ..   just   watch   the   movie ,   and   i   dear   say   you ' ll   see   things   a   bit   different   than   before .\"   \n",
              "   \n",
              "   first   off ,   weather   data   doesn ' t   come   from   xxup nasa ,   it   comes   for   met   xxunk   around   the   world .   second ,   the   weather   data   xxunk   a   major   xxunk   in   the   film .   third ,   far   from   being   \" packed   with   xxunk   evidence \",   the   remaining   xxunk   in   the   film   have   been   xxunk   xxunk .   xxunk   thought   he   had   a   xxunk   secret   piece   of   film ,   so   he   edited   it   and   added   his   own   interpretation .   xxunk   for   him ,   his   source   film   is   public   domain ,   and   the   xxunk   xxunk   edited   out   xxunk   his   xxunk .,xxbos   xxup swing !   is   an   important   film   because   it ' s   one   of   the   remaining   xxunk   and   xxunk   films   from   the   1930 s .   many   of   these   films   have   simply   xxunk   so   xxunk   that   they   are   xxunk ,   but   this   one   is   in   xxunk   good   shape .   it ' s   also   a   nice   chance   to   see   many   of   the   talented   black   xxunk   of   the   period   just   after   the   xxunk   of   the   old   cotton   xxunk   time   all   but   xxunk   today .   \n",
              "   \n",
              "   xxunk ,   while   the   film   is   xxunk   important   and   has   some   lovely   performances ,   it ' s   also   a   mess .   the   main   plot   is   very   similar   to   the   hollywood   xxunk   of   the   xxunk   a   prima   donna   who   is   going   to   xxunk   the   show   and   the   surprise   unknown   who   xxunk   from   no   where   to   save   the   day .   however ,   the   writing   is   just   xxunk   and   a   bit   xxunk   at   xxunk   projects   images   of   black   america   that   some   might   find   a   bit   xxunk .   this   is   because   before   the   plot   really   gets   going ,   you   are   xxunk   to   a   xxunk   xxunk   who   lives   off   his   hard   working   wife   ( a   popular   stereotype   of   the   time )   and   when   he   is   xxunk   with   a   xxunk   ( who ,   by   the   way ,   xxunk   xxunk   this   role ),   they   have   a   fight   which   xxunk   like   a   scene   from   xxup wwe   smackdown !   and ,   the   one   lady   wants   to   cut   the   other   lady   with   a   straight   xxunk   xxunk   scene   xxunk !   later   in   the   film ,   when   the   prima   donna   is   xxunk   xxunk ,   her   husband   xxunk   her   in   the   face   and   everyone   xxunk   him !   it   xxunk   like   the   film ,   at   times ,   wants   to   appeal   to   the   xxunk   common   xxunk   in   the   audience   xxup plus   they   can ' t   even   do   this   xxunk   some   of   the   worst   acting   i ' ve   seen   in   a   very   long   time .   \n",
              "   \n",
              "   still ,   if   you   can   look   past   a   xxunk   production   in   just   about   every   way   ( with   xxunk   characters ,   bad   acting   and   direction   and   poor   writing ),   this   one   might   be   worth   a   xxunk   so   you   can   see   excellent   singing   and   tap   xxunk   well   as   to   catch   a   xxunk   of   xxunk   black   culture .   just   don ' t   say   i   didn ' t   xxunk   you   about   the   xxunk ' s   really ,   really   bad !\n",
              "y: LMLabelList\n",
              ",,,,\n",
              "Path: /root/.fastai/data/imdb_sample;\n",
              "\n",
              "Test: None, model=SequentialRNN(\n",
              "  (0): AWD_LSTM(\n",
              "    (encoder): Embedding(60005, 400, padding_idx=1)\n",
              "    (encoder_dp): EmbeddingDropout(\n",
              "      (emb): Embedding(60005, 400, padding_idx=1)\n",
              "    )\n",
              "    (rnns): ModuleList(\n",
              "      (0): WeightDropout(\n",
              "        (module): LSTM(400, 1550, batch_first=True)\n",
              "      )\n",
              "      (1): WeightDropout(\n",
              "        (module): LSTM(1550, 1550, batch_first=True)\n",
              "      )\n",
              "      (2): WeightDropout(\n",
              "        (module): LSTM(1550, 1550, batch_first=True)\n",
              "      )\n",
              "      (3): WeightDropout(\n",
              "        (module): LSTM(1550, 400, batch_first=True)\n",
              "      )\n",
              "    )\n",
              "    (input_dp): RNNDropout()\n",
              "    (hidden_dps): ModuleList(\n",
              "      (0): RNNDropout()\n",
              "      (1): RNNDropout()\n",
              "      (2): RNNDropout()\n",
              "      (3): RNNDropout()\n",
              "    )\n",
              "  )\n",
              "  (1): LinearDecoder(\n",
              "    (decoder): Linear(in_features=400, out_features=60005, bias=True)\n",
              "    (output_dp): RNNDropout()\n",
              "  )\n",
              "), opt_func=functools.partial(<class 'torch.optim.adam.Adam'>, betas=(0.9, 0.99)), loss_func=FlattenedLoss of CrossEntropyLoss(), metrics=[<function accuracy at 0x7f3f5df50ea0>], true_wd=True, bn_wd=True, wd=0.01, train_bn=True, path=PosixPath('/root/.fastai/data/imdb_sample'), model_dir='models', callback_fns=[functools.partial(<class 'fastai.basic_train.Recorder'>, add_time=True, silent=False), functools.partial(<class 'fastai.train.GradientClipping'>, clip=0.12)], callbacks=[...], layer_groups=[Sequential(\n",
              "  (0): WeightDropout(\n",
              "    (module): LSTM(400, 1550, batch_first=True)\n",
              "  )\n",
              "  (1): RNNDropout()\n",
              "), Sequential(\n",
              "  (0): WeightDropout(\n",
              "    (module): LSTM(1550, 1550, batch_first=True)\n",
              "  )\n",
              "  (1): RNNDropout()\n",
              "), Sequential(\n",
              "  (0): WeightDropout(\n",
              "    (module): LSTM(1550, 1550, batch_first=True)\n",
              "  )\n",
              "  (1): RNNDropout()\n",
              "), Sequential(\n",
              "  (0): WeightDropout(\n",
              "    (module): LSTM(1550, 400, batch_first=True)\n",
              "  )\n",
              "  (1): RNNDropout()\n",
              "), Sequential(\n",
              "  (0): Embedding(60005, 400, padding_idx=1)\n",
              "  (1): EmbeddingDropout(\n",
              "    (emb): Embedding(60005, 400, padding_idx=1)\n",
              "  )\n",
              "  (2): LinearDecoder(\n",
              "    (decoder): Linear(in_features=400, out_features=60005, bias=True)\n",
              "    (output_dp): RNNDropout()\n",
              "  )\n",
              ")], add_time=True, silent=False, cb_fns_registered=False)\n",
              "alpha: 2\n",
              "beta: 1], layer_groups=[Sequential(\n",
              "  (0): WeightDropout(\n",
              "    (module): LSTM(400, 1550, batch_first=True)\n",
              "  )\n",
              "  (1): RNNDropout()\n",
              "), Sequential(\n",
              "  (0): WeightDropout(\n",
              "    (module): LSTM(1550, 1550, batch_first=True)\n",
              "  )\n",
              "  (1): RNNDropout()\n",
              "), Sequential(\n",
              "  (0): WeightDropout(\n",
              "    (module): LSTM(1550, 1550, batch_first=True)\n",
              "  )\n",
              "  (1): RNNDropout()\n",
              "), Sequential(\n",
              "  (0): WeightDropout(\n",
              "    (module): LSTM(1550, 400, batch_first=True)\n",
              "  )\n",
              "  (1): RNNDropout()\n",
              "), Sequential(\n",
              "  (0): Embedding(60005, 400, padding_idx=1)\n",
              "  (1): EmbeddingDropout(\n",
              "    (emb): Embedding(60005, 400, padding_idx=1)\n",
              "  )\n",
              "  (2): LinearDecoder(\n",
              "    (decoder): Linear(in_features=400, out_features=60005, bias=True)\n",
              "    (output_dp): RNNDropout()\n",
              "  )\n",
              ")], add_time=True, silent=False, cb_fns_registered=False)"
            ]
          },
          "metadata": {
            "tags": []
          },
          "execution_count": 7
        }
      ]
    },
    {
      "cell_type": "code",
      "metadata": {
        "id": "SwJK_G80KROl",
        "colab_type": "code",
        "colab": {
          "base_uri": "https://localhost:8080/",
          "height": 122
        },
        "outputId": "2d1fdff0-66e7-4f96-93fc-7e112c4306c8"
      },
      "source": [
        "print(learn.predict('กาลครั้งหนึ่งนานมาแล้ว ', 200, temperature=0.8, min_p=0.005, sep = ''))"
      ],
      "execution_count": 24,
      "outputs": [
        {
          "output_type": "stream",
          "text": [
            "กาลครั้งหนึ่งนานมาแล้ว คุณวันจันทร์ได้รับการอุปการะจากแม่เธอ \n",
            " \n",
            " วันต่อมา เธอได้พบกับ \"อาเธอร์ โอลด์เดน\" เด็กหนุ่มที่มีบุคลิกคล้ายกับ \"เอมิลี\" ซึ่งเป็นน้องสาวของนาง เขาจึงได้รับการเลี้ยงดูจาก \"อาเธอร์ ดีอา\" และเป็นผู้ที่คอยดูแลเธออยู่เสมอ เธอได้แนะนำให้เธอเป็นผู้หญิง \n",
            " \n",
            " โดยมี \"เอลซ่า\" ซึ่งเป็นทายาทของ \"อาเธอร์ ยูจีน\" ผู้เป็นสามีของเขา และเคยช่วยยูนิตที่ถูกส่งตัวไปประจำอยู่ที่ดินแดนแห่งนี้ เธอได้พบกับ \"ยูลิสซิส เกรย์ เอลิซาเบธ เอลลิส \" (เอมิลี่ ไอเซนฮา) ซึ่งเป็นชาว \"เผ่าเอลฟ์ \" และเธอก็ไม่ค่อยมีบุตร แต่เธอก็ได้รับความช่วยเหลือจาก \"\n"
          ],
          "name": "stdout"
        }
      ]
    },
    {
      "cell_type": "code",
      "metadata": {
        "id": "MyKkpWZbMOzt",
        "colab_type": "code",
        "colab": {}
      },
      "source": [
        ""
      ],
      "execution_count": 0,
      "outputs": []
    }
  ]
}